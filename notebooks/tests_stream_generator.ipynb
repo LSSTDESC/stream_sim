{
 "cells": [
  {
   "cell_type": "code",
   "execution_count": 1,
   "id": "1afd14bb",
   "metadata": {},
   "outputs": [],
   "source": [
    "##### Load libraries #####\n",
    "\n",
    "#Utils\n",
    "from importlib import reload\n",
    "import argparse\n",
    "import pandas as pd\n",
    "import sys\n",
    "import yaml\n",
    "import os\n",
    "import numpy as np\n",
    "import matplotlib.pyplot as plt\n",
    "import seaborn as sns\n",
    "\n",
    "#Galpy\n",
    "import galpy.potential as gp\n",
    "import galpy.df as gd #for streams PDF generation\n",
    "import galpy.actionAngle as ga\n",
    "from galpy.orbit import Orbit\n",
    "import galpy.util.coords as gucoord\n",
    "import galpy.util.conversion as guconv\n",
    "\n",
    "#Coordinate tools and astropy\n",
    "import astropy.units as u\n",
    "import astropy.coordinates as ac\n",
    "from astropy.table import Table\n",
    "# import galpy.util.conversion as guconv #beurk\n",
    "import gala.coordinates as gc #for great circle rotation\n",
    "with ac.galactocentric_frame_defaults.set(\"v4.0\"):\n",
    "    galcen_frame = ac.Galactocentric()\n",
    "\n",
    "#Define user path\n",
    "sys.path.append(os.path.abspath('../'))"
   ]
  },
  {
   "cell_type": "code",
   "execution_count": 2,
   "id": "ea6a7a6e",
   "metadata": {},
   "outputs": [
    {
     "data": {
      "text/plain": [
       "<module 'stream_galsim.stream_utils' from '/home/hallouin/Documents/thall_2025/Streams/stream_sim/stream_galsim/stream_utils.py'>"
      ]
     },
     "execution_count": 2,
     "metadata": {},
     "output_type": "execute_result"
    }
   ],
   "source": [
    "#Custom scripts\n",
    "from stream_galsim.create_config_file import generate\n",
    "import stream_galsim.stream_utils as sutils; reload(sutils)"
   ]
  },
  {
   "cell_type": "code",
   "execution_count": 3,
   "id": "cb8c1183",
   "metadata": {},
   "outputs": [],
   "source": [
    "##### Read keywords #####\n",
    "base_dir = os.path.abspath(os.path.join(os.getcwd(), '..'))\n",
    "#Load keyword file\n",
    "init_method = 'galstream' #custom\n",
    "column_name = 'TrackName' #Name\n",
    "name_o = 'Pal5-I21'\n",
    "impact = False"
   ]
  },
  {
   "cell_type": "code",
   "execution_count": 4,
   "id": "2f067c31",
   "metadata": {},
   "outputs": [
    {
     "name": "stdout",
     "output_type": "stream",
     "text": [
      "Initializing progenitor...\n",
      "ra_o not specified - using default value: 229\n",
      "dec_o not specified - using default value: -0.124\n",
      "distance_o not specified - using default value: 22.9\n",
      "pm_ra_cosdec_o not specified - using default value: -2.296\n",
      "pm_dec_o not specified - using default value: -2.257\n",
      "vrad_o not specified - using default value: -58.7\n",
      "frame not specified - using default value: icrs\n",
      "mass_o not specified - using default phys value: 20000.0\n",
      "sigv_o not specified - using default phys value: 0.365\n"
     ]
    }
   ],
   "source": [
    "##### Initialize progenitor #####\n",
    "\n",
    "def init_progenitor(init_method, column_name, name_o,\n",
    "                    ra_o=None, dec_o=None, distance_o=None,\n",
    "                    pm_ra_cosdec_o=None, pm_dec_o=None, vrad_o=None, frame=None,\n",
    "                    mass_o=None, sigv_o=None):\n",
    "    import os\n",
    "    import yaml\n",
    "    import pandas as pd\n",
    "\n",
    "    print(\"Initializing progenitor...\")\n",
    "\n",
    "    DEFAULT_PARAMS = {\n",
    "        'ra_o': (229, 'deg'),\n",
    "        'dec_o': (-0.124, 'deg'),\n",
    "        'distance_o': (22.9, 'kpc'),\n",
    "        'pm_ra_cosdec_o': (-2.296, 'mas/yr'),\n",
    "        'pm_dec_o': (-2.257, 'mas/yr'),\n",
    "        'vrad_o': (-58.7, 'km/s'),\n",
    "        'frame': ('icrs', None),\n",
    "    }\n",
    "\n",
    "    DEFAULT_PHYS = {\n",
    "        'mass_o': (2e4, 'Msun'),\n",
    "        'sigv_o': (0.365, 'km/s'),\n",
    "    }\n",
    "\n",
    "    user_params = {\n",
    "        'ra_o': ra_o,\n",
    "        'dec_o': dec_o,\n",
    "        'distance_o': distance_o,\n",
    "        'pm_ra_cosdec_o': pm_ra_cosdec_o,\n",
    "        'pm_dec_o': pm_dec_o,\n",
    "        'vrad_o': vrad_o,\n",
    "        'frame': frame,\n",
    "    }\n",
    "\n",
    "    user_phys = {\n",
    "        'mass_o': mass_o,\n",
    "        'sigv_o': sigv_o,\n",
    "    }\n",
    "\n",
    "    data = {'name_o': name_o}\n",
    "\n",
    "    # Load galstream config file\n",
    "    if init_method == 'galstream':\n",
    "        base_dir = os.path.abspath(os.path.join(os.getcwd(), '..'))\n",
    "        config_file = f'galstreams_{name_o}_config.yaml'\n",
    "        config_path = os.path.join(base_dir, 'stream_sim/config', config_file)\n",
    "\n",
    "        if not os.path.exists(config_path):\n",
    "            print(f\"No config file found. Generating {name_o} config file from galstream\")\n",
    "            generate(name_o, column_name)\n",
    "\n",
    "        with open(config_path, 'r') as file:\n",
    "            print(\"Loading config file...\")\n",
    "            config_data = yaml.safe_load(file)\n",
    "\n",
    "        # Transform into DataFrame and extract the dict\n",
    "        galstream_df = pd.DataFrame(config_data)\n",
    "        if galstream_df.shape[0] > 1:\n",
    "            raise ValueError(f\"Expected a single entry in config, found {galstream_df.shape[0]}\")\n",
    "\n",
    "        data.update(galstream_df.iloc[0].to_dict())\n",
    "\n",
    "    # Complete missing values with user values, ordefault values if missing as well\n",
    "    for key, (default_val, unit) in DEFAULT_PARAMS.items():\n",
    "        val = user_params.get(key)\n",
    "        if val is not None:\n",
    "            data[key] = val\n",
    "        elif key not in data or data[key] is None:\n",
    "            print(f\"{key} not specified - using default value: {default_val}\")\n",
    "            data[key] = default_val\n",
    "        data[f\"{key}_unit\"] = unit\n",
    "\n",
    "    for key, (default_val, unit) in DEFAULT_PHYS.items():\n",
    "        val = user_phys.get(key)\n",
    "        if val is not None:\n",
    "            data[key] = val\n",
    "        elif key not in data or data[key] is None:\n",
    "            print(f\"{key} not specified - using default phys value: {default_val}\")\n",
    "            data[key] = default_val\n",
    "        data[f\"{key}_unit\"] = unit\n",
    "\n",
    "    # Rturn as a dataframe\n",
    "    progenitor_coord = pd.DataFrame([data])\n",
    "    return progenitor_coord\n",
    "\n",
    "\n",
    "progenitor = init_progenitor('custom', column_name, name_o )\n",
    "keys = ['ra_o', 'dec_o', 'distance_o', 'pm_ra_cosdec_o', 'pm_dec_o', 'vrad_o']\n",
    "prog_orbit = Orbit([progenitor.at[0, key] for key in keys], radec=True) "
   ]
  },
  {
   "cell_type": "code",
   "execution_count": 5,
   "id": "64c50950",
   "metadata": {},
   "outputs": [
    {
     "name": "stdout",
     "output_type": "stream",
     "text": [
      "Initializing accreting host...\n",
      "V0 not specified - using default: 245.6\n",
      "R0 not specified - using default: 8.122\n",
      "vsun not specified - using default: [-12.9, 245.6, 7.78]\n",
      "pot not specified - using default: [<galpy.potential.PowerSphericalPotentialwCutoff.PowerSphericalPotentialwCutoff object at 0x78fdfda974d0>, <galpy.potential.MiyamotoNagaiPotential.MiyamotoNagaiPotential object at 0x78fdfdb25450>, <galpy.potential.TwoPowerSphericalPotential.NFWPotential object at 0x78fdfdb25d10>]\n",
      "b_scale not specified - using default: 1.5\n"
     ]
    }
   ],
   "source": [
    "\n",
    "##### Initialize accreting host #####\n",
    "\n",
    "def init_acc_host(V0=None, R0=None, vsun=None, pot=None, b_scale=None):\n",
    "    print(\"Initializing accreting host...\")\n",
    "    DEFAULTS = {\n",
    "        'V0': 245.6,\n",
    "        'R0': 8.122,\n",
    "        'vsun': [-12.9, 245.6, 7.78],\n",
    "        'pot': gp.MWPotential2014,\n",
    "        'b_scale': 1.5\n",
    "    }\n",
    "\n",
    "    def get_or_default(val, key):\n",
    "        if val is None:\n",
    "            print(f\"{key} not specified - using default: {DEFAULTS[key]}\")\n",
    "            return DEFAULTS[key]\n",
    "        return val\n",
    "\n",
    "    V0 = get_or_default(V0, 'V0')\n",
    "    R0 = get_or_default(R0, 'R0')\n",
    "    vsun = get_or_default(vsun, 'vsun')\n",
    "    pot = get_or_default(pot, 'pot')\n",
    "    b_scale = get_or_default(b_scale, 'b_scale')\n",
    "\n",
    "    # ActionAngle isochrone approx\n",
    "    aaisochrone = ga.actionAngleIsochroneApprox(pot=pot, b=b_scale)\n",
    "\n",
    "    acc_host = pd.DataFrame([{\n",
    "        'V0': V0,\n",
    "        'V0_unit': 'km/s',\n",
    "        'R0': R0,\n",
    "        'R0_unit': 'kpc',\n",
    "        'vsun': vsun,\n",
    "        'vsun_unit': 'km/s'\n",
    "    }])\n",
    "\n",
    "    return acc_host, pot, aaisochrone\n",
    "\n",
    "acc_host, mw_pot, aaisochrone = init_acc_host()"
   ]
  },
  {
   "cell_type": "code",
   "execution_count": 6,
   "id": "18046b5d",
   "metadata": {},
   "outputs": [],
   "source": [
    "def init_halo_impact(halo_mass=None, halo_a=None, v_halo=None,\n",
    "                     impact_b=None, t_impact=None, angle_impact=None):\n",
    "    print(\"Initializing halo and impact properties...\")\n",
    "    DEFAULTS = {\n",
    "        'halo_mass': 1e7,\n",
    "        'halo_a': 0.01,\n",
    "        'v_halo': np.array([6.82200571, 132.7700529, 149.4174464]),\n",
    "        'impact_b': 0,\n",
    "        't_impact': 2,\n",
    "        'angle_impact': 0.12\n",
    "    }\n",
    "\n",
    "    def get_or_default(param, name):\n",
    "        if param is None:\n",
    "            print(f\"{name} not specified - using default: {DEFAULTS[name]}\")\n",
    "            return DEFAULTS[name]\n",
    "        return param\n",
    "\n",
    "    # Retrieving or assigning values\n",
    "    halo_mass = get_or_default(halo_mass, 'halo_mass')\n",
    "    halo_a = get_or_default(halo_a, 'halo_a')\n",
    "    v_halo = get_or_default(v_halo, 'v_halo')\n",
    "    impact_b = get_or_default(impact_b, 'impact_b')\n",
    "    t_impact = get_or_default(t_impact, 't_impact')\n",
    "    angle_impact = get_or_default(angle_impact, 'angle_impact')\n",
    "\n",
    "    halo_pot = gp.NFWPotential(amp=halo_mass, a=halo_a)\n",
    "\n",
    "    halo_impact = pd.DataFrame([{\n",
    "        'halo_mass': halo_mass,\n",
    "        'halo_a': halo_a,\n",
    "        'v_halo': v_halo.tolist(),\n",
    "        'impact_b': impact_b,\n",
    "        't_impact': t_impact,\n",
    "        'angle_impact': angle_impact\n",
    "        }])\n",
    "\n",
    "    return halo_impact, halo_pot\n",
    "\n",
    "\n",
    "if impact == True:\n",
    "    halo_impact, halo_pot = init_halo_impact()"
   ]
  },
  {
   "cell_type": "code",
   "execution_count": 29,
   "id": "1f44de7e",
   "metadata": {},
   "outputs": [
    {
     "data": {
      "text/plain": [
       "<module 'stream_galsim.stream_utils' from '/home/hallouin/Documents/thall_2025/Streams/stream_sim/stream_galsim/stream_utils.py'>"
      ]
     },
     "execution_count": 29,
     "metadata": {},
     "output_type": "execute_result"
    }
   ],
   "source": [
    "#Custom scripts\n",
    "from stream_galsim.create_config_file import generate\n",
    "import stream_galsim.stream_utils as sutils; reload(sutils)"
   ]
  },
  {
   "cell_type": "code",
   "execution_count": 30,
   "id": "42487ce2",
   "metadata": {},
   "outputs": [
    {
     "name": "stdout",
     "output_type": "stream",
     "text": [
      "Generating stream df...\n"
     ]
    }
   ],
   "source": [
    "##### Generating df #####\n",
    "t_disrupt = 4*u.Gyr\n",
    "perturbed = 'not'\n",
    "print(\"Generating stream df...\")\n",
    "if (perturbed == 'lead') | (perturbed == 'trail'):\n",
    "    s_lead, s_trail, s_perturbed = sutils.full_galpy_df(\n",
    "                        sigv=progenitor.at[0, 'sigv_o'], #Radial velocity dispersion of the progenitor\n",
    "                        progenitor=prog_orbit, #Progenitor orbit instance\n",
    "                        pot = mw_pot, #accreting host potential\n",
    "                        aA = aaisochrone, #ActionAngle instance used to convert (x,v) to actions. Generally a actionAngleIsochroneApprox instance.                        vsun=vsun,\n",
    "                        ro = acc_host.at[0, 'R0'], #Distance scale for translation into internal units\n",
    "                        vo = acc_host.at[0, 'V0'], #Velocity scale for translation into internal units\n",
    "                        vsun = acc_host.at[0, 'vsun'],                         \n",
    "                        tdisrupt = t_disrupt,#  Time since start of disruption\n",
    "                        perturbed = True, #Including or not a DMS perturbation\n",
    "                        timpact = halo_impact.at[0, 't_impact'], # Time of impact\n",
    "                        impactb = halo_impact.at[0, 'impact_b'], #Impact parameter between halo and streams\n",
    "                        subhalovel = halo_impact.at[0, 'v_halo'], # Velocity of the subhalo\n",
    "                        subhalopot = halo_pot,# Gravitational potential of the subhalo\n",
    "                        impact_angle = halo_impact.at[0, 'angle_impact'], #Angle offset from progenitor at which the impact occurred\n",
    "                        )\n",
    "elif perturbed == 'not':\n",
    "    s_lead, s_trail, s_perturbed = sutils.full_galpy_df(\n",
    "                        sigv=progenitor.at[0, 'sigv_o'], #Radial velocity dispersion of the progenitor\n",
    "                        progenitor=prog_orbit, #Progenitor orbit instance\n",
    "                        pot = mw_pot, #accreting host potential\n",
    "                        aA = aaisochrone, #ActionAngle instance used to convert (x,v) to actions. Generally a actionAngleIsochroneApprox instance.                        vsun=vsun,\n",
    "                        ro = acc_host.at[0, 'R0'], #Distance scale for translation into internal units\n",
    "                        vo = acc_host.at[0, 'V0'], #Velocity scale for translation into internal units\n",
    "                        vsun = acc_host.at[0, 'vsun'],                         \n",
    "                        tdisrupt = t_disrupt,#  Time since start of disruption\n",
    "                        perturbed = False, #Including or not a DMS perturbation\n",
    "                        )\n",
    "else:\n",
    "    raise NotImplementedError(\"Unrecognized argument. Choose between 'lead', 'trail' or 'not'.\")\n"
   ]
  },
  {
   "cell_type": "code",
   "execution_count": 32,
   "id": "227f6778",
   "metadata": {},
   "outputs": [
    {
     "name": "stdout",
     "output_type": "stream",
     "text": [
      "Sampling stars along the df...\n"
     ]
    }
   ],
   "source": [
    "##### Sampling stars #####\n",
    "rdseed = 56\n",
    "n_stars = 10000\n",
    "print(\"Sampling stars along the df...\")\n",
    "s_lead_stars, s_trail_stars, s_full_stars, ps_stars, ps_full_stars = sutils.full_galpy_sampling(n_stars=n_stars, \n",
    "                                                                s_lead=s_lead, s_trail=s_trail, s_perturbed=s_perturbed,\n",
    "                                                                ro=acc_host.at[0, 'R0'], vo=acc_host.at[0, 'V0'], \n",
    "                                                                perturbed = perturbed, rdseed = rdseed)"
   ]
  },
  {
   "cell_type": "code",
   "execution_count": null,
   "id": "dd5c7be7",
   "metadata": {},
   "outputs": [
    {
     "name": "stdout",
     "output_type": "stream",
     "text": [
      "Convert to wanted coordinate frame...\n"
     ]
    }
   ],
   "source": [
    "##### Conversion #####\n",
    "print(\"Convert to wanted coordinate frame...\")\n",
    "\n",
    "coord = 'phi12'\n",
    "\n",
    "if perturbed == 'not':\n",
    "    stream_stars = s_full_stars\n",
    "\n",
    "elif (perturbed == 'lead') | (perturbed == 'trail'):\n",
    "    stream_stars = ps_full_stars\n",
    "\n",
    "if coord == 'xyz':\n",
    "    stream_stars = stream_stars\n",
    "elif coord == 'icrs':\n",
    "    stream_stars = sutils.xyz_to_icrs(stream_stars,  velocities=True)\n",
    "elif coord == 'phi12':\n",
    "    pole = (237.5, 5)\n",
    "    pole1 = ac.SkyCoord(ra=progenitor.at[0, 'ra_o']*u.deg, dec=progenitor.at[0, 'dec_o']*u.deg)\n",
    "    pole2 = ac.SkyCoord(ra=pole[0]*u.deg, dec=pole[1]*u.deg)\n",
    "\n",
    "    stream_stars = sutils.xyz_to_icrs(stream_stars,  velocities=True)\n",
    "    stream_stars = sutils.icrs_to_phi12(stream_stars, pole1, pole2, velocities=True) \n",
    "else:\n",
    "    raise NotImplementedError(\"Unrecognized argument. Choose between 'xyz', 'icrs' or 'phi12'.\")\n",
    "\n"
   ]
  },
  {
   "cell_type": "code",
   "execution_count": 36,
   "id": "4a2d3da6",
   "metadata": {},
   "outputs": [
    {
     "name": "stdout",
     "output_type": "stream",
     "text": [
      "Generating magnitudes...\n",
      "Pandas DataFrame saved to: /home/hallouin/Documents/thall_2025/Streams/stream_sim/data/Pal5-I21_stars.csv\n"
     ]
    }
   ],
   "source": [
    "##### Generate ouput file #####\n",
    "output_method = 'stars'#choose ouput type (stars or density map)\n",
    "\n",
    "if output_method == 'stars':\n",
    "    config = {\n",
    "    \"name\": \"Bressan2012\",\n",
    "    \"survey\": \"des\",\n",
    "    \"age\": 12.0,\n",
    "    \"z\": 0.0006,\n",
    "    \"band_1\": \"g\",\n",
    "    \"band_2\": \"r\",\n",
    "    \"band_1_detection\": True}\n",
    "    print(\"Generating magnitudes...\")\n",
    "    isochrone_model = sutils.IsochroneModel(config)\n",
    "\n",
    "    mag_g_s, mag_r_s = isochrone_model.sample_magnitudes(stream_stars)\n",
    "\n",
    "    # Save stars table with sampled magnitudes\n",
    "    sutils.save_star_data(stream_stars, mag_g_s, mag_r_s, 'phi12', filepath=f\"{base_dir}/data/{name_o}_stars.csv\")\n"
   ]
  }
 ],
 "metadata": {
  "kernelspec": {
   "display_name": "streams",
   "language": "python",
   "name": "streams"
  },
  "language_info": {
   "codemirror_mode": {
    "name": "ipython",
    "version": 3
   },
   "file_extension": ".py",
   "mimetype": "text/x-python",
   "name": "python",
   "nbconvert_exporter": "python",
   "pygments_lexer": "ipython3",
   "version": "3.13.2"
  }
 },
 "nbformat": 4,
 "nbformat_minor": 5
}
