{
 "cells": [
  {
   "cell_type": "markdown",
   "metadata": {},
   "source": [
    "# Notebook used for function writing"
   ]
  },
  {
   "cell_type": "code",
   "execution_count": 1,
   "metadata": {},
   "outputs": [],
   "source": [
    "import pandas as pd\n",
    "import sys\n",
    "import os\n",
    "#Define user path\n",
    "sys.path.append(os.path.abspath('../'))\n",
    "\n",
    "from galpy.df import streamdf, streamgapdf\n",
    "from galpy.orbit import Orbit\n",
    "from galpy.potential import LogarithmicHaloPotential\n",
    "from galpy.actionAngle import actionAngleIsochroneApprox\n",
    "from galpy.util import conversion\n",
    "import numpy\n"
   ]
  },
  {
   "cell_type": "markdown",
   "metadata": {},
   "source": [
    "## Tests on stream_sim"
   ]
  },
  {
   "cell_type": "code",
   "execution_count": 2,
   "metadata": {},
   "outputs": [
    {
     "ename": "FileNotFoundError",
     "evalue": "[Errno 2] No such file or directory: '/home/hallouin/Documents/thall_2025/Streams/stream_sim_hall/generated_data/erkal_2016_pal_5_input.csv'",
     "output_type": "error",
     "traceback": [
      "\u001b[31m---------------------------------------------------------------------------\u001b[39m",
      "\u001b[31mFileNotFoundError\u001b[39m                         Traceback (most recent call last)",
      "\u001b[36mCell\u001b[39m\u001b[36m \u001b[39m\u001b[32mIn[2]\u001b[39m\u001b[32m, line 7\u001b[39m\n\u001b[32m      4\u001b[39m config_file = \u001b[33m'\u001b[39m\u001b[33merkal_2016_pal_5_input.csv\u001b[39m\u001b[33m'\u001b[39m\n\u001b[32m      5\u001b[39m config_path = os.path.join(base_dir, \u001b[33m'\u001b[39m\u001b[33mgenerated_data\u001b[39m\u001b[33m'\u001b[39m, config_file)\n\u001b[32m----> \u001b[39m\u001b[32m7\u001b[39m derkal_data = \u001b[43mpd\u001b[49m\u001b[43m.\u001b[49m\u001b[43mread_csv\u001b[49m\u001b[43m(\u001b[49m\u001b[43mconfig_path\u001b[49m\u001b[43m)\u001b[49m\n\u001b[32m      9\u001b[39m \u001b[38;5;66;03m#config_data\u001b[39;00m\n\u001b[32m     10\u001b[39m \u001b[38;5;28mprint\u001b[39m(derkal_data[\u001b[33m'\u001b[39m\u001b[33mnstars\u001b[39m\u001b[33m'\u001b[39m]*(\u001b[32m0.02\u001b[39m*derkal_data[\u001b[33m'\u001b[39m\u001b[33mwidth\u001b[39m\u001b[33m'\u001b[39m]))\n",
      "\u001b[36mFile \u001b[39m\u001b[32m~/miniconda3/envs/streams/lib/python3.13/site-packages/pandas/io/parsers/readers.py:1026\u001b[39m, in \u001b[36mread_csv\u001b[39m\u001b[34m(filepath_or_buffer, sep, delimiter, header, names, index_col, usecols, dtype, engine, converters, true_values, false_values, skipinitialspace, skiprows, skipfooter, nrows, na_values, keep_default_na, na_filter, verbose, skip_blank_lines, parse_dates, infer_datetime_format, keep_date_col, date_parser, date_format, dayfirst, cache_dates, iterator, chunksize, compression, thousands, decimal, lineterminator, quotechar, quoting, doublequote, escapechar, comment, encoding, encoding_errors, dialect, on_bad_lines, delim_whitespace, low_memory, memory_map, float_precision, storage_options, dtype_backend)\u001b[39m\n\u001b[32m   1013\u001b[39m kwds_defaults = _refine_defaults_read(\n\u001b[32m   1014\u001b[39m     dialect,\n\u001b[32m   1015\u001b[39m     delimiter,\n\u001b[32m   (...)\u001b[39m\u001b[32m   1022\u001b[39m     dtype_backend=dtype_backend,\n\u001b[32m   1023\u001b[39m )\n\u001b[32m   1024\u001b[39m kwds.update(kwds_defaults)\n\u001b[32m-> \u001b[39m\u001b[32m1026\u001b[39m \u001b[38;5;28;01mreturn\u001b[39;00m \u001b[43m_read\u001b[49m\u001b[43m(\u001b[49m\u001b[43mfilepath_or_buffer\u001b[49m\u001b[43m,\u001b[49m\u001b[43m \u001b[49m\u001b[43mkwds\u001b[49m\u001b[43m)\u001b[49m\n",
      "\u001b[36mFile \u001b[39m\u001b[32m~/miniconda3/envs/streams/lib/python3.13/site-packages/pandas/io/parsers/readers.py:620\u001b[39m, in \u001b[36m_read\u001b[39m\u001b[34m(filepath_or_buffer, kwds)\u001b[39m\n\u001b[32m    617\u001b[39m _validate_names(kwds.get(\u001b[33m\"\u001b[39m\u001b[33mnames\u001b[39m\u001b[33m\"\u001b[39m, \u001b[38;5;28;01mNone\u001b[39;00m))\n\u001b[32m    619\u001b[39m \u001b[38;5;66;03m# Create the parser.\u001b[39;00m\n\u001b[32m--> \u001b[39m\u001b[32m620\u001b[39m parser = \u001b[43mTextFileReader\u001b[49m\u001b[43m(\u001b[49m\u001b[43mfilepath_or_buffer\u001b[49m\u001b[43m,\u001b[49m\u001b[43m \u001b[49m\u001b[43m*\u001b[49m\u001b[43m*\u001b[49m\u001b[43mkwds\u001b[49m\u001b[43m)\u001b[49m\n\u001b[32m    622\u001b[39m \u001b[38;5;28;01mif\u001b[39;00m chunksize \u001b[38;5;129;01mor\u001b[39;00m iterator:\n\u001b[32m    623\u001b[39m     \u001b[38;5;28;01mreturn\u001b[39;00m parser\n",
      "\u001b[36mFile \u001b[39m\u001b[32m~/miniconda3/envs/streams/lib/python3.13/site-packages/pandas/io/parsers/readers.py:1620\u001b[39m, in \u001b[36mTextFileReader.__init__\u001b[39m\u001b[34m(self, f, engine, **kwds)\u001b[39m\n\u001b[32m   1617\u001b[39m     \u001b[38;5;28mself\u001b[39m.options[\u001b[33m\"\u001b[39m\u001b[33mhas_index_names\u001b[39m\u001b[33m\"\u001b[39m] = kwds[\u001b[33m\"\u001b[39m\u001b[33mhas_index_names\u001b[39m\u001b[33m\"\u001b[39m]\n\u001b[32m   1619\u001b[39m \u001b[38;5;28mself\u001b[39m.handles: IOHandles | \u001b[38;5;28;01mNone\u001b[39;00m = \u001b[38;5;28;01mNone\u001b[39;00m\n\u001b[32m-> \u001b[39m\u001b[32m1620\u001b[39m \u001b[38;5;28mself\u001b[39m._engine = \u001b[38;5;28;43mself\u001b[39;49m\u001b[43m.\u001b[49m\u001b[43m_make_engine\u001b[49m\u001b[43m(\u001b[49m\u001b[43mf\u001b[49m\u001b[43m,\u001b[49m\u001b[43m \u001b[49m\u001b[38;5;28;43mself\u001b[39;49m\u001b[43m.\u001b[49m\u001b[43mengine\u001b[49m\u001b[43m)\u001b[49m\n",
      "\u001b[36mFile \u001b[39m\u001b[32m~/miniconda3/envs/streams/lib/python3.13/site-packages/pandas/io/parsers/readers.py:1880\u001b[39m, in \u001b[36mTextFileReader._make_engine\u001b[39m\u001b[34m(self, f, engine)\u001b[39m\n\u001b[32m   1878\u001b[39m     \u001b[38;5;28;01mif\u001b[39;00m \u001b[33m\"\u001b[39m\u001b[33mb\u001b[39m\u001b[33m\"\u001b[39m \u001b[38;5;129;01mnot\u001b[39;00m \u001b[38;5;129;01min\u001b[39;00m mode:\n\u001b[32m   1879\u001b[39m         mode += \u001b[33m\"\u001b[39m\u001b[33mb\u001b[39m\u001b[33m\"\u001b[39m\n\u001b[32m-> \u001b[39m\u001b[32m1880\u001b[39m \u001b[38;5;28mself\u001b[39m.handles = \u001b[43mget_handle\u001b[49m\u001b[43m(\u001b[49m\n\u001b[32m   1881\u001b[39m \u001b[43m    \u001b[49m\u001b[43mf\u001b[49m\u001b[43m,\u001b[49m\n\u001b[32m   1882\u001b[39m \u001b[43m    \u001b[49m\u001b[43mmode\u001b[49m\u001b[43m,\u001b[49m\n\u001b[32m   1883\u001b[39m \u001b[43m    \u001b[49m\u001b[43mencoding\u001b[49m\u001b[43m=\u001b[49m\u001b[38;5;28;43mself\u001b[39;49m\u001b[43m.\u001b[49m\u001b[43moptions\u001b[49m\u001b[43m.\u001b[49m\u001b[43mget\u001b[49m\u001b[43m(\u001b[49m\u001b[33;43m\"\u001b[39;49m\u001b[33;43mencoding\u001b[39;49m\u001b[33;43m\"\u001b[39;49m\u001b[43m,\u001b[49m\u001b[43m \u001b[49m\u001b[38;5;28;43;01mNone\u001b[39;49;00m\u001b[43m)\u001b[49m\u001b[43m,\u001b[49m\n\u001b[32m   1884\u001b[39m \u001b[43m    \u001b[49m\u001b[43mcompression\u001b[49m\u001b[43m=\u001b[49m\u001b[38;5;28;43mself\u001b[39;49m\u001b[43m.\u001b[49m\u001b[43moptions\u001b[49m\u001b[43m.\u001b[49m\u001b[43mget\u001b[49m\u001b[43m(\u001b[49m\u001b[33;43m\"\u001b[39;49m\u001b[33;43mcompression\u001b[39;49m\u001b[33;43m\"\u001b[39;49m\u001b[43m,\u001b[49m\u001b[43m \u001b[49m\u001b[38;5;28;43;01mNone\u001b[39;49;00m\u001b[43m)\u001b[49m\u001b[43m,\u001b[49m\n\u001b[32m   1885\u001b[39m \u001b[43m    \u001b[49m\u001b[43mmemory_map\u001b[49m\u001b[43m=\u001b[49m\u001b[38;5;28;43mself\u001b[39;49m\u001b[43m.\u001b[49m\u001b[43moptions\u001b[49m\u001b[43m.\u001b[49m\u001b[43mget\u001b[49m\u001b[43m(\u001b[49m\u001b[33;43m\"\u001b[39;49m\u001b[33;43mmemory_map\u001b[39;49m\u001b[33;43m\"\u001b[39;49m\u001b[43m,\u001b[49m\u001b[43m \u001b[49m\u001b[38;5;28;43;01mFalse\u001b[39;49;00m\u001b[43m)\u001b[49m\u001b[43m,\u001b[49m\n\u001b[32m   1886\u001b[39m \u001b[43m    \u001b[49m\u001b[43mis_text\u001b[49m\u001b[43m=\u001b[49m\u001b[43mis_text\u001b[49m\u001b[43m,\u001b[49m\n\u001b[32m   1887\u001b[39m \u001b[43m    \u001b[49m\u001b[43merrors\u001b[49m\u001b[43m=\u001b[49m\u001b[38;5;28;43mself\u001b[39;49m\u001b[43m.\u001b[49m\u001b[43moptions\u001b[49m\u001b[43m.\u001b[49m\u001b[43mget\u001b[49m\u001b[43m(\u001b[49m\u001b[33;43m\"\u001b[39;49m\u001b[33;43mencoding_errors\u001b[39;49m\u001b[33;43m\"\u001b[39;49m\u001b[43m,\u001b[49m\u001b[43m \u001b[49m\u001b[33;43m\"\u001b[39;49m\u001b[33;43mstrict\u001b[39;49m\u001b[33;43m\"\u001b[39;49m\u001b[43m)\u001b[49m\u001b[43m,\u001b[49m\n\u001b[32m   1888\u001b[39m \u001b[43m    \u001b[49m\u001b[43mstorage_options\u001b[49m\u001b[43m=\u001b[49m\u001b[38;5;28;43mself\u001b[39;49m\u001b[43m.\u001b[49m\u001b[43moptions\u001b[49m\u001b[43m.\u001b[49m\u001b[43mget\u001b[49m\u001b[43m(\u001b[49m\u001b[33;43m\"\u001b[39;49m\u001b[33;43mstorage_options\u001b[39;49m\u001b[33;43m\"\u001b[39;49m\u001b[43m,\u001b[49m\u001b[43m \u001b[49m\u001b[38;5;28;43;01mNone\u001b[39;49;00m\u001b[43m)\u001b[49m\u001b[43m,\u001b[49m\n\u001b[32m   1889\u001b[39m \u001b[43m\u001b[49m\u001b[43m)\u001b[49m\n\u001b[32m   1890\u001b[39m \u001b[38;5;28;01massert\u001b[39;00m \u001b[38;5;28mself\u001b[39m.handles \u001b[38;5;129;01mis\u001b[39;00m \u001b[38;5;129;01mnot\u001b[39;00m \u001b[38;5;28;01mNone\u001b[39;00m\n\u001b[32m   1891\u001b[39m f = \u001b[38;5;28mself\u001b[39m.handles.handle\n",
      "\u001b[36mFile \u001b[39m\u001b[32m~/miniconda3/envs/streams/lib/python3.13/site-packages/pandas/io/common.py:873\u001b[39m, in \u001b[36mget_handle\u001b[39m\u001b[34m(path_or_buf, mode, encoding, compression, memory_map, is_text, errors, storage_options)\u001b[39m\n\u001b[32m    868\u001b[39m \u001b[38;5;28;01melif\u001b[39;00m \u001b[38;5;28misinstance\u001b[39m(handle, \u001b[38;5;28mstr\u001b[39m):\n\u001b[32m    869\u001b[39m     \u001b[38;5;66;03m# Check whether the filename is to be opened in binary mode.\u001b[39;00m\n\u001b[32m    870\u001b[39m     \u001b[38;5;66;03m# Binary mode does not support 'encoding' and 'newline'.\u001b[39;00m\n\u001b[32m    871\u001b[39m     \u001b[38;5;28;01mif\u001b[39;00m ioargs.encoding \u001b[38;5;129;01mand\u001b[39;00m \u001b[33m\"\u001b[39m\u001b[33mb\u001b[39m\u001b[33m\"\u001b[39m \u001b[38;5;129;01mnot\u001b[39;00m \u001b[38;5;129;01min\u001b[39;00m ioargs.mode:\n\u001b[32m    872\u001b[39m         \u001b[38;5;66;03m# Encoding\u001b[39;00m\n\u001b[32m--> \u001b[39m\u001b[32m873\u001b[39m         handle = \u001b[38;5;28;43mopen\u001b[39;49m\u001b[43m(\u001b[49m\n\u001b[32m    874\u001b[39m \u001b[43m            \u001b[49m\u001b[43mhandle\u001b[49m\u001b[43m,\u001b[49m\n\u001b[32m    875\u001b[39m \u001b[43m            \u001b[49m\u001b[43mioargs\u001b[49m\u001b[43m.\u001b[49m\u001b[43mmode\u001b[49m\u001b[43m,\u001b[49m\n\u001b[32m    876\u001b[39m \u001b[43m            \u001b[49m\u001b[43mencoding\u001b[49m\u001b[43m=\u001b[49m\u001b[43mioargs\u001b[49m\u001b[43m.\u001b[49m\u001b[43mencoding\u001b[49m\u001b[43m,\u001b[49m\n\u001b[32m    877\u001b[39m \u001b[43m            \u001b[49m\u001b[43merrors\u001b[49m\u001b[43m=\u001b[49m\u001b[43merrors\u001b[49m\u001b[43m,\u001b[49m\n\u001b[32m    878\u001b[39m \u001b[43m            \u001b[49m\u001b[43mnewline\u001b[49m\u001b[43m=\u001b[49m\u001b[33;43m\"\u001b[39;49m\u001b[33;43m\"\u001b[39;49m\u001b[43m,\u001b[49m\n\u001b[32m    879\u001b[39m \u001b[43m        \u001b[49m\u001b[43m)\u001b[49m\n\u001b[32m    880\u001b[39m     \u001b[38;5;28;01melse\u001b[39;00m:\n\u001b[32m    881\u001b[39m         \u001b[38;5;66;03m# Binary mode\u001b[39;00m\n\u001b[32m    882\u001b[39m         handle = \u001b[38;5;28mopen\u001b[39m(handle, ioargs.mode)\n",
      "\u001b[31mFileNotFoundError\u001b[39m: [Errno 2] No such file or directory: '/home/hallouin/Documents/thall_2025/Streams/stream_sim_hall/generated_data/erkal_2016_pal_5_input.csv'"
     ]
    }
   ],
   "source": [
    "##Load sts config file\n",
    "# Path to the yaml config file in the 'config' folder\n",
    "base_dir = os.path.abspath(os.path.join(os.getcwd(), '..'))\n",
    "config_file = 'erkal_2016_pal_5_input.csv'\n",
    "config_path = os.path.join(base_dir, 'generated_data', config_file)\n",
    "\n",
    "derkal_data = pd.read_csv(config_path)\n",
    "\n",
    "#config_data\n",
    "print(derkal_data['nstars']*(0.02*derkal_data['width']))\n",
    "numpy.sum(derkal_data['nstars']*(0.02*derkal_data['width']))\n",
    "\n"
   ]
  },
  {
   "cell_type": "code",
   "execution_count": null,
   "metadata": {},
   "outputs": [],
   "source": [
    "###what's nstars ?\n"
   ]
  },
  {
   "cell_type": "markdown",
   "metadata": {},
   "source": [
    "## Mock stream generation"
   ]
  },
  {
   "cell_type": "code",
   "execution_count": null,
   "metadata": {},
   "outputs": [
    {
     "name": "stdout",
     "output_type": "stream",
     "text": [
      "305.9954797816719\n"
     ]
    }
   ],
   "source": [
    "lp= LogarithmicHaloPotential(normalize=1.,q=0.9)\n",
    "aAI= actionAngleIsochroneApprox(pot=lp,b=0.8)\n",
    "prog_unp_peri= Orbit([2.6556151742081835,\n",
    "                          0.2183747276300308,\n",
    "                          0.67876510797240575,\n",
    "                          -2.0143395648974671,\n",
    "                          -0.3273737682604374,\n",
    "                          0.24218273922966019])\n",
    "V0, R0= 220., 8.\n",
    "sigv= 0.365*(10./2.)**(1./3.) # km/s\n",
    "tdisrupt= 10.88/conversion.time_in_Gyr(V0,R0)\n",
    "print(tdisrupt)\n"
   ]
  },
  {
   "cell_type": "code",
   "execution_count": null,
   "metadata": {},
   "outputs": [
    {
     "name": "stdout",
     "output_type": "stream",
     "text": [
      "24.74963439410582\n"
     ]
    }
   ],
   "source": [
    "GM= 10.**-2./conversion.mass_in_1010msol(V0,R0)\n",
    "rs= 0.625/R0\n",
    "impactb= 0.\n",
    "subhalovel= numpy.array([6.82200571,132.7700529,149.4174464])/V0\n",
    "timpact= 0.88/conversion.time_in_Gyr(V0,R0)\n",
    "impact_angle= -2.34\n",
    "print(timpact)"
   ]
  },
  {
   "cell_type": "code",
   "execution_count": null,
   "metadata": {},
   "outputs": [
    {
     "name": "stdout",
     "output_type": "stream",
     "text": [
      "galpyWarning: WARNING: Rnorm keyword input to streamdf is deprecated in favor of the standard ro keyword\n",
      "galpyWarning: WARNING: Vnorm keyword input to streamdf is deprecated in favor of the standard vo keyword\n"
     ]
    },
    {
     "ename": "",
     "evalue": "",
     "output_type": "error",
     "traceback": [
      "\u001b[1;31mThe Kernel crashed while executing code in the current cell or a previous cell. \n",
      "\u001b[1;31mPlease review the code in the cell(s) to identify a possible cause of the failure. \n",
      "\u001b[1;31mClick <a href='https://aka.ms/vscodeJupyterKernelCrash'>here</a> for more info. \n",
      "\u001b[1;31mView Jupyter <a href='command:jupyter.viewOutput'>log</a> for further details."
     ]
    }
   ],
   "source": [
    "sdf_sanders15= streamgapdf(sigv/V0,progenitor=prog_unp_peri,pot=lp,aA=aAI,\n",
    "                               leading=False,nTrackChunks=26,\n",
    "                               nTrackIterations=1,\n",
    "                               sigMeanOffset=4.5,\n",
    "                               tdisrupt=tdisrupt,\n",
    "                               Vnorm=V0,Rnorm=R0,\n",
    "                               impactb=impactb,\n",
    "                               subhalovel=subhalovel,\n",
    "                               timpact=timpact,\n",
    "                               impact_angle=impact_angle,\n",
    "                               GM=GM,rs=rs)\n"
   ]
  },
  {
   "cell_type": "code",
   "execution_count": 6,
   "metadata": {},
   "outputs": [
    {
     "name": "stdout",
     "output_type": "stream",
     "text": [
      "Fit successful: A=51.91, mu=-0.63, sigma=0.52, nfev=8\n"
     ]
    },
    {
     "data": {
      "image/png": "[encoded data removed]",
      "text/plain": [
       "<Figure size 640x480 with 1 Axes>"
      ]
     },
     "metadata": {},
     "output_type": "display_data"
    }
   ],
   "source": [
    "import numpy as np\n",
    "import matplotlib.pyplot as plt\n",
    "from scipy.optimize import least_squares, curve_fit\n",
    "\n",
    "# Example data (adjust with your real data)\n",
    "phi2 = np.linspace(-3, 3, 20)  \n",
    "nstars = np.random.poisson(lam=50 * np.exp(-((phi2 + 0.5) ** 2) / (2 * 0.5**2)), size=len(phi2))\n",
    "\n",
    "# Define Gaussian function\n",
    "def gaussian(params, x):\n",
    "    A, mu, sigma = params\n",
    "    return A * np.exp(-((x - mu) ** 2) / (2 * sigma**2))\n",
    "\n",
    "# Residual function for least_squares\n",
    "def residuals(params, x, y):\n",
    "    return gaussian(params, x) - y\n",
    "\n",
    "# Initial parameter guesses\n",
    "max_idx = np.argmax(nstars)  \n",
    "initial_mu = phi2[max_idx]   \n",
    "initial_sigma = np.sqrt(np.average((phi2 - initial_mu) ** 2, weights=nstars))  \n",
    "p0 = [max(nstars), initial_mu, initial_sigma]\n",
    "\n",
    "# Set max function evaluations\n",
    "max_fev = 100\n",
    "\n",
    "# Perform least_squares optimization\n",
    "result = least_squares(residuals, p0, args=(phi2, nstars), max_nfev=max_fev)\n",
    "\n",
    "# Extract nfev and check if it exceeds max_fev\n",
    "if result.nfev < max_fev:\n",
    "    A_fit, mu_fit, sigma_fit = result.x\n",
    "    print(f\"Fit successful: A={A_fit:.2f}, mu={mu_fit:.2f}, sigma={sigma_fit:.2f}, nfev={result.nfev}\")\n",
    "else:\n",
    "    print(f\"Fit failed: nfev={result.nfev} exceeded max_fev={max_fev}\")\n",
    "    exit()  # Stop execution or handle this case differently\n",
    "\n",
    "# Plot histogram\n",
    "plt.bar(phi2, nstars, width=0.3, alpha=0.6, color='b', edgecolor='black', label=\"Histogram Data\")\n",
    "\n",
    "# Plot the fitted Gaussian\n",
    "phi2_fine = np.linspace(min(phi2), max(phi2), 100)\n",
    "plt.plot(phi2_fine, gaussian([A_fit, mu_fit, sigma_fit], phi2_fine), 'r-', linewidth=2, label=\"Gaussian Fit\")\n",
    "\n",
    "# Labels and title\n",
    "plt.xlabel('Phi2')\n",
    "plt.ylabel('Number of Stars (nstars)')\n",
    "plt.title('Histogram with Gaussian Fit')\n",
    "plt.legend()\n",
    "plt.grid(axis='y', linestyle='--', alpha=0.7)\n",
    "\n",
    "plt.show()\n"
   ]
  },
  {
   "cell_type": "code",
   "execution_count": 7,
   "metadata": {},
   "outputs": [
    {
     "ename": "NameError",
     "evalue": "name 'coord' is not defined",
     "output_type": "error",
     "traceback": [
      "\u001b[31m---------------------------------------------------------------------------\u001b[39m",
      "\u001b[31mNameError\u001b[39m                                 Traceback (most recent call last)",
      "\u001b[36mCell\u001b[39m\u001b[36m \u001b[39m\u001b[32mIn[7]\u001b[39m\u001b[32m, line 1\u001b[39m\n\u001b[32m----> \u001b[39m\u001b[32m1\u001b[39m endpoints = \u001b[43mcoord\u001b[49m.SkyCoord(\n\u001b[32m      2\u001b[39m     ra=[-\u001b[32m38.8\u001b[39m, \u001b[32m4.7\u001b[39m]*u.deg,\n\u001b[32m      3\u001b[39m     dec=[-\u001b[32m45.1\u001b[39m, -\u001b[32m51.7\u001b[39m]*u.deg\n\u001b[32m      4\u001b[39m )\n\u001b[32m      5\u001b[39m great_circle_frame = gc.GreatCircleICRSFrame.from_endpoints(endpoints[\u001b[32m0\u001b[39m], endpoints[\u001b[32m1\u001b[39m], origin=origin)\n",
      "\u001b[31mNameError\u001b[39m: name 'coord' is not defined"
     ]
    }
   ],
   "source": [
    "endpoints = coord.SkyCoord(\n",
    "    ra=[-38.8, 4.7]*u.deg,\n",
    "    dec=[-45.1, -51.7]*u.deg\n",
    ")\n",
    "great_circle_frame = gc.GreatCircleICRSFrame.from_endpoints(endpoints[0], endpoints[1], origin=origin)"
   ]
  },
  {
   "cell_type": "code",
   "execution_count": 8,
   "metadata": {},
   "outputs": [
    {
     "ename": "NameError",
     "evalue": "name 'coord' is not defined",
     "output_type": "error",
     "traceback": [
      "\u001b[31m---------------------------------------------------------------------------\u001b[39m",
      "\u001b[31mNameError\u001b[39m                                 Traceback (most recent call last)",
      "\u001b[36mCell\u001b[39m\u001b[36m \u001b[39m\u001b[32mIn[8]\u001b[39m\u001b[32m, line 1\u001b[39m\n\u001b[32m----> \u001b[39m\u001b[32m1\u001b[39m stars = \u001b[43mcoord\u001b[49m.SkyCoord(\n\u001b[32m      2\u001b[39m     ra=[\u001b[32m10.0\u001b[39m, \u001b[32m20.0\u001b[39m, \u001b[32m30.0\u001b[39m]*u.deg,\n\u001b[32m      3\u001b[39m     dec=[-\u001b[32m40.0\u001b[39m, -\u001b[32m42.0\u001b[39m, -\u001b[32m38.5\u001b[39m]*u.deg,\n\u001b[32m      4\u001b[39m     frame=\u001b[33m'\u001b[39m\u001b[33micrs\u001b[39m\u001b[33m'\u001b[39m\n\u001b[32m      5\u001b[39m )\n\u001b[32m      7\u001b[39m stars_transformed = stars.transform_to(great_circle_frame)\n",
      "\u001b[31mNameError\u001b[39m: name 'coord' is not defined"
     ]
    }
   ],
   "source": [
    "stars = coord.SkyCoord(\n",
    "    ra=[10.0, 20.0, 30.0]*u.deg,\n",
    "    dec=[-40.0, -42.0, -38.5]*u.deg,\n",
    "    frame='icrs'\n",
    ")\n",
    "\n",
    "stars_transformed = stars.transform_to(great_circle_frame)"
   ]
  },
  {
   "cell_type": "code",
   "execution_count": 10,
   "metadata": {},
   "outputs": [
    {
     "ename": "TypeError",
     "evalue": "gaussian() takes 2 positional arguments but 4 were given",
     "output_type": "error",
     "traceback": [
      "\u001b[31m---------------------------------------------------------------------------\u001b[39m",
      "\u001b[31mTypeError\u001b[39m                                 Traceback (most recent call last)",
      "\u001b[36mCell\u001b[39m\u001b[36m \u001b[39m\u001b[32mIn[10]\u001b[39m\u001b[32m, line 1\u001b[39m\n\u001b[32m----> \u001b[39m\u001b[32m1\u001b[39m popt, _ = \u001b[43mcurve_fit\u001b[49m\u001b[43m(\u001b[49m\u001b[43mgaussian\u001b[49m\u001b[43m,\u001b[49m\u001b[43m \u001b[49m\u001b[43mphi2\u001b[49m\u001b[43m,\u001b[49m\u001b[43m \u001b[49m\u001b[43mnstars\u001b[49m\u001b[43m,\u001b[49m\u001b[43m \u001b[49m\u001b[43mp0\u001b[49m\u001b[43m=\u001b[49m\u001b[43m[\u001b[49m\u001b[38;5;28;43mmax\u001b[39;49m\u001b[43m(\u001b[49m\u001b[43mnstars\u001b[49m\u001b[43m)\u001b[49m\u001b[43m,\u001b[49m\u001b[43m \u001b[49m\u001b[43mphi2\u001b[49m\u001b[43m[\u001b[49m\u001b[43mnp\u001b[49m\u001b[43m.\u001b[49m\u001b[43margmax\u001b[49m\u001b[43m(\u001b[49m\u001b[43mnstars\u001b[49m\u001b[43m)\u001b[49m\u001b[43m]\u001b[49m\u001b[43m,\u001b[49m\u001b[43m \u001b[49m\u001b[32;43m1\u001b[39;49m\u001b[43m]\u001b[49m\u001b[43m)\u001b[49m\n\u001b[32m      3\u001b[39m A_fit, mu_fit, sigma_fit = popt\n\u001b[32m      5\u001b[39m plt.figure()\n",
      "\u001b[36mFile \u001b[39m\u001b[32m~/miniconda3/envs/streams/lib/python3.13/site-packages/scipy/optimize/_minpack_py.py:1014\u001b[39m, in \u001b[36mcurve_fit\u001b[39m\u001b[34m(f, xdata, ydata, p0, sigma, absolute_sigma, check_finite, bounds, method, jac, full_output, nan_policy, **kwargs)\u001b[39m\n\u001b[32m   1011\u001b[39m \u001b[38;5;28;01mif\u001b[39;00m ydata.size != \u001b[32m1\u001b[39m \u001b[38;5;129;01mand\u001b[39;00m n > ydata.size:\n\u001b[32m   1012\u001b[39m     \u001b[38;5;28;01mraise\u001b[39;00m \u001b[38;5;167;01mTypeError\u001b[39;00m(\u001b[33mf\u001b[39m\u001b[33m\"\u001b[39m\u001b[33mThe number of func parameters=\u001b[39m\u001b[38;5;132;01m{\u001b[39;00mn\u001b[38;5;132;01m}\u001b[39;00m\u001b[33m must not\u001b[39m\u001b[33m\"\u001b[39m\n\u001b[32m   1013\u001b[39m                     \u001b[33mf\u001b[39m\u001b[33m\"\u001b[39m\u001b[33m exceed the number of data points=\u001b[39m\u001b[38;5;132;01m{\u001b[39;00mydata.size\u001b[38;5;132;01m}\u001b[39;00m\u001b[33m\"\u001b[39m)\n\u001b[32m-> \u001b[39m\u001b[32m1014\u001b[39m res = \u001b[43mleastsq\u001b[49m\u001b[43m(\u001b[49m\u001b[43mfunc\u001b[49m\u001b[43m,\u001b[49m\u001b[43m \u001b[49m\u001b[43mp0\u001b[49m\u001b[43m,\u001b[49m\u001b[43m \u001b[49m\u001b[43mDfun\u001b[49m\u001b[43m=\u001b[49m\u001b[43mjac\u001b[49m\u001b[43m,\u001b[49m\u001b[43m \u001b[49m\u001b[43mfull_output\u001b[49m\u001b[43m=\u001b[49m\u001b[32;43m1\u001b[39;49m\u001b[43m,\u001b[49m\u001b[43m \u001b[49m\u001b[43m*\u001b[49m\u001b[43m*\u001b[49m\u001b[43mkwargs\u001b[49m\u001b[43m)\u001b[49m\n\u001b[32m   1015\u001b[39m popt, pcov, infodict, errmsg, ier = res\n\u001b[32m   1016\u001b[39m ysize = \u001b[38;5;28mlen\u001b[39m(infodict[\u001b[33m'\u001b[39m\u001b[33mfvec\u001b[39m\u001b[33m'\u001b[39m])\n",
      "\u001b[36mFile \u001b[39m\u001b[32m~/miniconda3/envs/streams/lib/python3.13/site-packages/scipy/optimize/_minpack_py.py:425\u001b[39m, in \u001b[36mleastsq\u001b[39m\u001b[34m(func, x0, args, Dfun, full_output, col_deriv, ftol, xtol, gtol, maxfev, epsfcn, factor, diag)\u001b[39m\n\u001b[32m    423\u001b[39m \u001b[38;5;28;01mif\u001b[39;00m \u001b[38;5;129;01mnot\u001b[39;00m \u001b[38;5;28misinstance\u001b[39m(args, \u001b[38;5;28mtuple\u001b[39m):\n\u001b[32m    424\u001b[39m     args = (args,)\n\u001b[32m--> \u001b[39m\u001b[32m425\u001b[39m shape, dtype = \u001b[43m_check_func\u001b[49m\u001b[43m(\u001b[49m\u001b[33;43m'\u001b[39;49m\u001b[33;43mleastsq\u001b[39;49m\u001b[33;43m'\u001b[39;49m\u001b[43m,\u001b[49m\u001b[43m \u001b[49m\u001b[33;43m'\u001b[39;49m\u001b[33;43mfunc\u001b[39;49m\u001b[33;43m'\u001b[39;49m\u001b[43m,\u001b[49m\u001b[43m \u001b[49m\u001b[43mfunc\u001b[49m\u001b[43m,\u001b[49m\u001b[43m \u001b[49m\u001b[43mx0\u001b[49m\u001b[43m,\u001b[49m\u001b[43m \u001b[49m\u001b[43margs\u001b[49m\u001b[43m,\u001b[49m\u001b[43m \u001b[49m\u001b[43mn\u001b[49m\u001b[43m)\u001b[49m\n\u001b[32m    426\u001b[39m m = shape[\u001b[32m0\u001b[39m]\n\u001b[32m    428\u001b[39m \u001b[38;5;28;01mif\u001b[39;00m n > m:\n",
      "\u001b[36mFile \u001b[39m\u001b[32m~/miniconda3/envs/streams/lib/python3.13/site-packages/scipy/optimize/_minpack_py.py:23\u001b[39m, in \u001b[36m_check_func\u001b[39m\u001b[34m(checker, argname, thefunc, x0, args, numinputs, output_shape)\u001b[39m\n\u001b[32m     21\u001b[39m \u001b[38;5;28;01mdef\u001b[39;00m\u001b[38;5;250m \u001b[39m\u001b[34m_check_func\u001b[39m(checker, argname, thefunc, x0, args, numinputs,\n\u001b[32m     22\u001b[39m                 output_shape=\u001b[38;5;28;01mNone\u001b[39;00m):\n\u001b[32m---> \u001b[39m\u001b[32m23\u001b[39m     res = atleast_1d(\u001b[43mthefunc\u001b[49m\u001b[43m(\u001b[49m\u001b[43m*\u001b[49m\u001b[43m(\u001b[49m\u001b[43m(\u001b[49m\u001b[43mx0\u001b[49m\u001b[43m[\u001b[49m\u001b[43m:\u001b[49m\u001b[43mnuminputs\u001b[49m\u001b[43m]\u001b[49m\u001b[43m,\u001b[49m\u001b[43m)\u001b[49m\u001b[43m \u001b[49m\u001b[43m+\u001b[49m\u001b[43m \u001b[49m\u001b[43margs\u001b[49m\u001b[43m)\u001b[49m\u001b[43m)\u001b[49m)\n\u001b[32m     24\u001b[39m     \u001b[38;5;28;01mif\u001b[39;00m (output_shape \u001b[38;5;129;01mis\u001b[39;00m \u001b[38;5;129;01mnot\u001b[39;00m \u001b[38;5;28;01mNone\u001b[39;00m) \u001b[38;5;129;01mand\u001b[39;00m (shape(res) != output_shape):\n\u001b[32m     25\u001b[39m         \u001b[38;5;28;01mif\u001b[39;00m (output_shape[\u001b[32m0\u001b[39m] != \u001b[32m1\u001b[39m):\n",
      "\u001b[36mFile \u001b[39m\u001b[32m~/miniconda3/envs/streams/lib/python3.13/site-packages/scipy/optimize/_minpack_py.py:522\u001b[39m, in \u001b[36m_lightweight_memoizer.<locals>._memoized_func\u001b[39m\u001b[34m(params)\u001b[39m\n\u001b[32m    519\u001b[39m \u001b[38;5;28;01melif\u001b[39;00m _memoized_func.last_params \u001b[38;5;129;01mis\u001b[39;00m \u001b[38;5;129;01mnot\u001b[39;00m \u001b[38;5;28;01mNone\u001b[39;00m:\n\u001b[32m    520\u001b[39m     _memoized_func.skip_lookup = \u001b[38;5;28;01mTrue\u001b[39;00m\n\u001b[32m--> \u001b[39m\u001b[32m522\u001b[39m val = \u001b[43mf\u001b[49m\u001b[43m(\u001b[49m\u001b[43mparams\u001b[49m\u001b[43m)\u001b[49m\n\u001b[32m    524\u001b[39m \u001b[38;5;28;01mif\u001b[39;00m _memoized_func.last_params \u001b[38;5;129;01mis\u001b[39;00m \u001b[38;5;28;01mNone\u001b[39;00m:\n\u001b[32m    525\u001b[39m     _memoized_func.last_params = np.copy(params)\n",
      "\u001b[36mFile \u001b[39m\u001b[32m~/miniconda3/envs/streams/lib/python3.13/site-packages/scipy/optimize/_minpack_py.py:539\u001b[39m, in \u001b[36m_wrap_func.<locals>.func_wrapped\u001b[39m\u001b[34m(params)\u001b[39m\n\u001b[32m    538\u001b[39m \u001b[38;5;28;01mdef\u001b[39;00m\u001b[38;5;250m \u001b[39m\u001b[34mfunc_wrapped\u001b[39m(params):\n\u001b[32m--> \u001b[39m\u001b[32m539\u001b[39m     \u001b[38;5;28;01mreturn\u001b[39;00m \u001b[43mfunc\u001b[49m\u001b[43m(\u001b[49m\u001b[43mxdata\u001b[49m\u001b[43m,\u001b[49m\u001b[43m \u001b[49m\u001b[43m*\u001b[49m\u001b[43mparams\u001b[49m\u001b[43m)\u001b[49m - ydata\n",
      "\u001b[31mTypeError\u001b[39m: gaussian() takes 2 positional arguments but 4 were given"
     ]
    }
   ],
   "source": [
    "popt, _ = curve_fit(gaussian, phi2, nstars, p0=[max(nstars), phi2[np.argmax(nstars)], 1])\n",
    "\n",
    "A_fit, mu_fit, sigma_fit = popt\n",
    "\n",
    "plt.figure()\n",
    "\n",
    "phi2_fine = np.linspace(-3, 2, 200)\n",
    "plt.bar(phi2, nstars, width=0.1, edgecolor='b')\n",
    "plt.plot(phi2_fine, gaussian(phi2_fine, *popt), 'r-', linewidth=2, label=\"Gaussian Fit\")\n",
    "plt.show()\n",
    "print(f\"Fitted Parameters: Amplitude = {A_fit:.2f}, Mean = {mu_fit:.2f}, Std Dev = {sigma_fit:.2f}\")"
   ]
  },
  {
   "cell_type": "code",
   "execution_count": null,
   "metadata": {},
   "outputs": [],
   "source": [
    "### Phi12 fitting using curvefit\n",
    "\n",
    "from astropy.table import Table\n",
    "import scipy.optimize as opt\n",
    "\n",
    "def gaussian(x, A, mu, sigma):\n",
    "    return A * np.exp(-((x - mu) ** 2) / (2 * sigma**2))\n",
    "\n",
    "\n",
    "def stream_density(stream, delta_phi1 = 0.02):\n",
    "    ''' Calculates the linear density along a stellar stream\n",
    "     - stream = the stream, in shape [[star1], [star2], ...]\n",
    "     - each star have at least [phi1, phi2] as data. + [pmphi1, pmphi2, magr,...]\n",
    "     - phi1_delta = bins in phi1 axis.\n",
    "\n",
    "    Returns pddataframe with:\n",
    "     - phi1 \n",
    "     - phi2 = to mid track at phi1\n",
    "     - nstar = to density at phi1\n",
    "     - width = to track width at phi1\n",
    "    '''\n",
    "    ###retrieve stream data\n",
    "    #todo\n",
    "    # if arg_type =='pdframe':\n",
    "    #     phi1 = stream['phi1']\n",
    "    #     phi2 = stream['phi2']\n",
    "    # elif arg_type == 'list':\n",
    "    #     phi1 = stream.T[0]\n",
    "    #     phi2 = stream.T[1]\n",
    "    phi1_stars = stream.T[0]\n",
    "    phi2_stars = stream.T[1]\n",
    "    # np.random.seed(42)\n",
    "    # phi1_stars = np.random.uniform(-6, 16, 1000)  # 1000 stars in the range [-6, 16]\n",
    "    # phi2_stars = np.random.uniform(-2.5, 0, 1000)  # 1000 stars in the range [-2.5, 0]\n",
    "    phi1_min = np.min(phi1_stars) + delta_phi1\n",
    "    phi1_max = np.max(phi1_stars) - delta_phi1\n",
    "    phi2_min = np.min(phi2_stars)\n",
    "    phi2_max = np.max(phi2_stars)\n",
    "    nbins1 = int((phi1_max - phi1_min)/delta_phi1)\n",
    "    print(nbins1)\n",
    "    # 1: Initialize empty lists for each column in the results table\n",
    "    phi1_vals = []\n",
    "    phi2_vals = []\n",
    "    nstars_vals = []\n",
    "    width_vals = []\n",
    "\n",
    "    # 2: Loop through Phi1 window to calculate local density\n",
    "    for phi1_t in np.arange(phi1_min, phi1_max, delta_phi1):\n",
    "        # 2a: Select the stars within the Phi1 window\n",
    "        #fixed width in Phi2 for the moment\n",
    "        width = 0.2  #\n",
    "        nbins2 = nbins1\n",
    "        mask_phi1 = (np.abs(phi1_stars - phi1_t) < width)\n",
    "        selected_phi1 = phi1_stars[mask_phi1]\n",
    "        selected_phi2 = phi2_stars[mask_phi1]\n",
    "\n",
    "        if len(selected_phi1) > 0:\n",
    "            # 2b: Find the Phi2 corresponding to maximum star density\n",
    "            hist_nstars, bin_phi2 = np.histogram(selected_phi2, bins=nbins1, range=(phi2_min, phi2_max)) #1D histogram in the Phi2 direction\n",
    "            max_bin_idx = np.argmax(hist_nstars)  #first estimation by nstars maximum\n",
    "            max_phi2 = (bin_phi2[max_bin_idx] + bin_phi2[max_bin_idx + 1]) / 2  # The middle of the bin\n",
    "            # print(hist_nstars)\n",
    "            #precise estimation by gaussian fit\n",
    "            popt, _,u,f,g = opt.curve_fit(gaussian, bin_phi2[:-1], hist_nstars, p0=[max(hist_nstars), max_phi2, 1], maxfev = 100000, full_output=True)\n",
    "            A_fit, mu_fit, sigma_fit = popt\n",
    "\n",
    "            # 2c: Count the stars in this region (n_stars)\n",
    "            n_stars = np.sum(mask_phi1)\n",
    "\n",
    "            # Append the results for this step to the respective lists\n",
    "            phi1_vals.append(phi1_t)#\n",
    "            phi2_vals.append(mu_fit)#phi2 at the center of the hist\n",
    "            nstars_vals.append(A_fit)#maximum of the gaussian\n",
    "            width_vals.append(sigma_fit)#width\n",
    "\n",
    "\n",
    "        # 3: Create a table to store the results\n",
    "    density_table = Table([phi1_vals, phi2_vals, nstars_vals, width_vals], \n",
    "                            names=('phi1', 'phi2', 'nstars', 'width'))\n",
    "\n",
    "    return density_table\n",
    "\n",
    "stream_erkal = stream_density(stream_phi12, delta_phi1=0.1)\n",
    "\n",
    "print(stream_erkal[350:450]) #actually, the distribution of stars along Phi2 in a bin Phi1 is defined by a gaussian of maximum nstars, mean Phi2 and std width.\n",
    "# Plot the density in the frame (scatter plot of phi1, phi2 values)\n",
    "plt.figure(figsize=(10, 6))\n",
    "plt.hist2d(stream_phi12.T[0], stream_phi12.T[1], bins=100, cmap='plasma')\n",
    "plt.scatter(stream_erkal['phi1'], stream_erkal['phi2'], c=stream_erkal['nstars'], cmap='gist_yarg', s=5)\n",
    "plt.colorbar(label='Number of Stars')\n",
    "plt.xlabel('phi1 (degrees)')\n",
    "plt.ylabel('phi2 (degrees)')\n",
    "plt.title('Star Density Along the Stream')\n",
    "# plt.grid(True)\n",
    "plt.show()\n",
    "\n"
   ]
  },
  {
   "cell_type": "markdown",
   "metadata": {},
   "source": [
    "# Main notebook addons"
   ]
  },
  {
   "cell_type": "code",
   "execution_count": null,
   "metadata": {},
   "outputs": [],
   "source": [
    "### Modelise Non-perturbed stream using Chen2024 formalism\n",
    "\n",
    "#initiate spray function, two parts ; leading and trailing part of the stream (leading = {True, False})\n",
    "# stream_c24_lead = gd.chen24spraydf(progenitor_mass=prog_mass,\n",
    "#                         progenitor=prog_orbit, \n",
    "#                         pot=mw_pot, rtpot=None, #host potential and tidal radius potential\n",
    "#                         tdisrupt=t_disrupt, \n",
    "#                         leading=True, \n",
    "#                         center=None, centerpot=None, \n",
    "#                         progpot=prog_pot, \n",
    "#                         mean=None, cov=None, ro=None, vo=None)\n",
    "\n",
    "# stream_c24_trail = gd.chen24spraydf(progenitor_mass=prog_mass,\n",
    "#                         progenitor=prog_orbit, \n",
    "#                         pot=mw_pot, rtpot=None, #host potential and tidal radius potential\n",
    "#                         tdisrupt=t_disrupt, \n",
    "#                         leading=False, \n",
    "#                         center=None, centerpot=None, \n",
    "#                         progpot=prog_pot, \n",
    "#                         mean=None, cov=None, ro=None, vo=None)\n"
   ]
  },
  {
   "cell_type": "code",
   "execution_count": null,
   "metadata": {},
   "outputs": [],
   "source": [
    "# # Integrating the progenitor orbit back in time to get the orbit instance at t_disrupt\n",
    "# ts= np.linspace(0.,4.5*u.Gyr,1000)\n",
    "# prog_orbit.integrate(-ts,mw_pot)\n",
    "# print(prog_orbit.x(t=-4.5*u.Gyr),prog_orbit.y(t=-4.5*u.Gyr),prog_orbit.z(t=-4.5*u.Gyr))\n",
    "# # prog_orbit.plot3d(d1='x',d2='y', d3='z')\n"
   ]
  }
 ],
 "metadata": {
  "kernelspec": {
   "display_name": "streams",
   "language": "python",
   "name": "streams"
  },
  "language_info": {
   "codemirror_mode": {
    "name": "ipython",
    "version": 3
   },
   "file_extension": ".py",
   "mimetype": "text/x-python",
   "name": "python",
   "nbconvert_exporter": "python",
   "pygments_lexer": "ipython3",
   "version": "3.13.2"
  }
 },
 "nbformat": 4,
 "nbformat_minor": 2
}
