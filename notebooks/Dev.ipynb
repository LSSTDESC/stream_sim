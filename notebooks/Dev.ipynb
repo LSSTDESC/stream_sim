{
 "cells": [
  {
   "cell_type": "markdown",
   "metadata": {},
   "source": [
    "# Notebook used for function writing"
   ]
  },
  {
   "cell_type": "code",
   "execution_count": 1,
   "metadata": {},
   "outputs": [],
   "source": [
    "import pandas as pd\n",
    "import sys\n",
    "import os\n",
    "#Define user path\n",
    "sys.path.append(os.path.abspath('../'))\n",
    "\n",
    "from galpy.df import streamdf, streamgapdf\n",
    "from galpy.orbit import Orbit\n",
    "from galpy.potential import LogarithmicHaloPotential\n",
    "from galpy.actionAngle import actionAngleIsochroneApprox\n",
    "from galpy.util import conversion\n",
    "import numpy\n"
   ]
  },
  {
   "cell_type": "markdown",
   "metadata": {},
   "source": [
    "## Tests on stream_sim"
   ]
  },
  {
   "cell_type": "code",
   "execution_count": 2,
   "metadata": {},
   "outputs": [
    {
     "name": "stdout",
     "output_type": "stream",
     "text": [
      "0       0.004239\n",
      "1       0.004309\n",
      "2       0.004381\n",
      "3       0.004453\n",
      "4       0.004525\n",
      "          ...   \n",
      "1142    0.000796\n",
      "1143    0.000784\n",
      "1144    0.000772\n",
      "1145    0.000759\n",
      "1146    0.000748\n",
      "Length: 1147, dtype: float64\n"
     ]
    },
    {
     "data": {
      "text/plain": [
       "np.float64(8.341058536168287)"
      ]
     },
     "execution_count": 2,
     "metadata": {},
     "output_type": "execute_result"
    }
   ],
   "source": [
    "##Load sts config file\n",
    "# Path to the yaml config file in the 'config' folder\n",
    "base_dir = os.path.abspath(os.path.join(os.getcwd(), '..'))\n",
    "config_file = 'erkal_2016_pal_5_input.csv'\n",
    "config_path = os.path.join(base_dir, 'generated_data', config_file)\n",
    "\n",
    "derkal_data = pd.read_csv(config_path)\n",
    "\n",
    "#config_data\n",
    "print(derkal_data['nstars']*(0.02*derkal_data['width']))\n",
    "numpy.sum(derkal_data['nstars']*(0.02*derkal_data['width']))\n",
    "\n"
   ]
  },
  {
   "cell_type": "code",
   "execution_count": null,
   "metadata": {},
   "outputs": [],
   "source": [
    "###what's nstars ?\n"
   ]
  },
  {
   "cell_type": "markdown",
   "metadata": {},
   "source": [
    "## Mock stream generation"
   ]
  },
  {
   "cell_type": "code",
   "execution_count": 3,
   "metadata": {},
   "outputs": [
    {
     "name": "stdout",
     "output_type": "stream",
     "text": [
      "305.9954797816719\n"
     ]
    }
   ],
   "source": [
    "lp= LogarithmicHaloPotential(normalize=1.,q=0.9)\n",
    "aAI= actionAngleIsochroneApprox(pot=lp,b=0.8)\n",
    "prog_unp_peri= Orbit([2.6556151742081835,\n",
    "                          0.2183747276300308,\n",
    "                          0.67876510797240575,\n",
    "                          -2.0143395648974671,\n",
    "                          -0.3273737682604374,\n",
    "                          0.24218273922966019])\n",
    "V0, R0= 220., 8.\n",
    "sigv= 0.365*(10./2.)**(1./3.) # km/s\n",
    "tdisrupt= 10.88/conversion.time_in_Gyr(V0,R0)\n",
    "print(tdisrupt)\n"
   ]
  },
  {
   "cell_type": "code",
   "execution_count": 4,
   "metadata": {},
   "outputs": [
    {
     "name": "stdout",
     "output_type": "stream",
     "text": [
      "24.74963439410582\n"
     ]
    }
   ],
   "source": [
    "GM= 10.**-2./conversion.mass_in_1010msol(V0,R0)\n",
    "rs= 0.625/R0\n",
    "impactb= 0.\n",
    "subhalovel= numpy.array([6.82200571,132.7700529,149.4174464])/V0\n",
    "timpact= 0.88/conversion.time_in_Gyr(V0,R0)\n",
    "impact_angle= -2.34\n",
    "print(timpact)"
   ]
  },
  {
   "cell_type": "code",
   "execution_count": 7,
   "metadata": {},
   "outputs": [
    {
     "name": "stdout",
     "output_type": "stream",
     "text": [
      "galpyWarning: WARNING: Rnorm keyword input to streamdf is deprecated in favor of the standard ro keyword\n",
      "galpyWarning: WARNING: Vnorm keyword input to streamdf is deprecated in favor of the standard vo keyword\n"
     ]
    },
    {
     "ename": "",
     "evalue": "",
     "output_type": "error",
     "traceback": [
      "\u001b[1;31mThe Kernel crashed while executing code in the current cell or a previous cell. \n",
      "\u001b[1;31mPlease review the code in the cell(s) to identify a possible cause of the failure. \n",
      "\u001b[1;31mClick <a href='https://aka.ms/vscodeJupyterKernelCrash'>here</a> for more info. \n",
      "\u001b[1;31mView Jupyter <a href='command:jupyter.viewOutput'>log</a> for further details."
     ]
    }
   ],
   "source": [
    "sdf_sanders15= streamgapdf(sigv/V0,progenitor=prog_unp_peri,pot=lp,aA=aAI,\n",
    "                               leading=False,nTrackChunks=26,\n",
    "                               nTrackIterations=1,\n",
    "                               sigMeanOffset=4.5,\n",
    "                               tdisrupt=tdisrupt,\n",
    "                               Vnorm=V0,Rnorm=R0,\n",
    "                               impactb=impactb,\n",
    "                               subhalovel=subhalovel,\n",
    "                               timpact=timpact,\n",
    "                               impact_angle=impact_angle,\n",
    "                               GM=GM,rs=rs)\n"
   ]
  },
  {
   "cell_type": "code",
   "execution_count": 2,
   "metadata": {},
   "outputs": [
    {
     "name": "stdout",
     "output_type": "stream",
     "text": [
      "        phi1                phi2         nstars width\n",
      "------------------- -------------------- ------ -----\n",
      "               -6.0               -2.375      4   0.2\n",
      "               -5.8               -2.375     16   0.2\n",
      "               -5.6  -1.7916666666666667     27   0.2\n",
      "-5.3999999999999995  -1.7916666666666667     22   0.2\n",
      " -5.199999999999999 -0.29166666666666674     20   0.2\n",
      " -4.999999999999999 -0.29166666666666674     20   0.2\n",
      " -4.799999999999999  -1.4583333333333335     15   0.2\n",
      " -4.599999999999999  -1.9583333333333335     15   0.2\n",
      " -4.399999999999999  -1.7083333333333335     19   0.2\n",
      " -4.199999999999998  -0.7916666666666667     24   0.2\n",
      "                ...                  ...    ...   ...\n",
      " 14.000000000000018  -1.0416666666666667     20   0.2\n",
      " 14.200000000000017   -2.458333333333333     16   0.2\n",
      "  14.40000000000002   -2.458333333333333     17   0.2\n",
      "  14.60000000000002  -1.9583333333333335     19   0.2\n",
      " 14.800000000000018   -2.208333333333333     24   0.2\n",
      " 15.000000000000018  -0.7083333333333334     22   0.2\n",
      " 15.200000000000017 -0.04166666666666674     18   0.2\n",
      "  15.40000000000002  -1.5416666666666667     14   0.2\n",
      "  15.60000000000002  -1.5416666666666667     17   0.2\n",
      " 15.800000000000018               -1.875     17   0.2\n",
      "Length = 110 rows\n"
     ]
    },
    {
     "data": {
      "image/png": "[encoded data removed]",
      "text/plain": [
       "<Figure size 1000x600 with 2 Axes>"
      ]
     },
     "metadata": {},
     "output_type": "display_data"
    }
   ],
   "source": [
    "import numpy as np\n",
    "import astropy.units as u\n",
    "import astropy.coordinates as coord\n",
    "from astropy.table import Table\n",
    "import matplotlib.pyplot as plt\n",
    "\n",
    "# Simulate more stars (more realistic data)\n",
    "np.random.seed(42)\n",
    "phi1_stars = np.random.uniform(-6, 16, 1000)  # 1000 stars in the range [-6, 16]\n",
    "phi2_stars = np.random.uniform(-2.5, 0, 1000)  # 1000 stars in the range [-2.5, 0]\n",
    "\n",
    "# Define the stream window (user-defined)\n",
    "phi1_min, phi1_max = -6, 16  # Phi1 window\n",
    "phi2_min, phi2_max = -2.5, 0  # Phi2 window\n",
    "\n",
    "# Define the user-given step size in Phi1 (in degrees)\n",
    "phi1_step = 0.2  # Example: scan every 1 degree in Phi1\n",
    "\n",
    "# Step 1: Initialize empty lists for each column in the results table\n",
    "phi1_vals = []\n",
    "phi2_vals = []\n",
    "nstars_vals = []\n",
    "width_vals = []\n",
    "\n",
    "# Step 2: Loop through Phi1 window with given step size\n",
    "for phi1_t in np.arange(phi1_min, phi1_max, phi1_step):\n",
    "    # Define the window around the current Phi1 point\n",
    "    # Here we are using a fixed width (for simplicity, can adjust this further)\n",
    "    width = 0.2  # You can adjust this value or make it dynamic\n",
    "    mask_phi1 = (np.abs(phi1_stars - phi1_t) < width)\n",
    "\n",
    "    # Select the stars within the Phi1 window\n",
    "    selected_phi1 = phi1_stars[mask_phi1]\n",
    "    selected_phi2 = phi2_stars[mask_phi1]\n",
    "\n",
    "    # Step 3: Find the Phi2 corresponding to maximum star density\n",
    "    # We can use histogram to find the mode of Phi2 (max density)\n",
    "    if len(selected_phi1) > 0:\n",
    "        hist_phi2, bin_edges = np.histogram(selected_phi2, bins=30, range=(phi2_min, phi2_max))\n",
    "        max_bin_idx = np.argmax(hist_phi2)  # Index of maximum density\n",
    "        max_phi2 = (bin_edges[max_bin_idx] + bin_edges[max_bin_idx + 1]) / 2  # The middle of the bin\n",
    "        \n",
    "        # Step 4: Count the stars in this region (n_stars)\n",
    "        n_stars = np.sum(mask_phi1)\n",
    "\n",
    "        # Append the results for this step to the respective lists\n",
    "        phi1_vals.append(phi1_t)\n",
    "        phi2_vals.append(max_phi2)\n",
    "        nstars_vals.append(n_stars)\n",
    "        width_vals.append(width)\n",
    "\n",
    "# Step 3: Create a table to store the results\n",
    "if phi1_vals:\n",
    "    density_table = Table([phi1_vals, phi2_vals, nstars_vals, width_vals], \n",
    "                          names=('phi1', 'phi2', 'nstars', 'width'))\n",
    "\n",
    "    # Print the table to verify the results\n",
    "    print(density_table)\n",
    "\n",
    "    # Plot the density in the frame (scatter plot of phi1, phi2 values)\n",
    "    plt.figure(figsize=(10, 6))\n",
    "    plt.scatter(density_table['phi1'], density_table['phi2'], c=density_table['nstars'], cmap='viridis', s=50)\n",
    "    plt.colorbar(label='Number of Stars')\n",
    "    plt.xlabel('phi1 (degrees)')\n",
    "    plt.ylabel('phi2 (degrees)')\n",
    "    plt.title('Star Density Along the Stream')\n",
    "    plt.grid(True)\n",
    "    plt.show()\n",
    "else:\n",
    "    print(\"No stars were found in the given window.\")\n"
   ]
  },
  {
   "cell_type": "code",
   "execution_count": null,
   "metadata": {},
   "outputs": [],
   "source": [
    "endpoints = coord.SkyCoord(\n",
    "    ra=[-38.8, 4.7]*u.deg,\n",
    "    dec=[-45.1, -51.7]*u.deg\n",
    ")\n",
    "great_circle_frame = gc.GreatCircleICRSFrame.from_endpoints(endpoints[0], endpoints[1], origin=origin)"
   ]
  },
  {
   "cell_type": "code",
   "execution_count": null,
   "metadata": {},
   "outputs": [],
   "source": [
    "stars = coord.SkyCoord(\n",
    "    ra=[10.0, 20.0, 30.0]*u.deg,\n",
    "    dec=[-40.0, -42.0, -38.5]*u.deg,\n",
    "    frame='icrs'\n",
    ")\n",
    "\n",
    "stars_transformed = stars.transform_to(great_circle_frame)"
   ]
  },
  {
   "cell_type": "code",
   "execution_count": null,
   "metadata": {},
   "outputs": [],
   "source": [
    "popt, _ = opt.curve_fit(gaussian, phi2, nstars, p0=[max(nstars), phi2[np.argmax(nstars)], 1])\n",
    "\n",
    "A_fit, mu_fit, sigma_fit = popt\n",
    "\n",
    "plt.figure()\n",
    "\n",
    "phi2_fine = np.linspace(-3, 2, 200)\n",
    "plt.bar(phi2, nstars, width=0.1, edgecolor='b')\n",
    "plt.plot(phi2_fine, gaussian(phi2_fine, *popt), 'r-', linewidth=2, label=\"Gaussian Fit\")\n",
    "plt.show()\n",
    "print(f\"Fitted Parameters: Amplitude = {A_fit:.2f}, Mean = {mu_fit:.2f}, Std Dev = {sigma_fit:.2f}\")"
   ]
  },
  {
   "cell_type": "markdown",
   "metadata": {},
   "source": [
    "# Main notebook addons"
   ]
  },
  {
   "cell_type": "code",
   "execution_count": null,
   "metadata": {},
   "outputs": [],
   "source": [
    "### Modelise Non-perturbed stream using Chen2024 formalism\n",
    "\n",
    "#initiate spray function, two parts ; leading and trailing part of the stream (leading = {True, False})\n",
    "# stream_c24_lead = gd.chen24spraydf(progenitor_mass=prog_mass,\n",
    "#                         progenitor=prog_orbit, \n",
    "#                         pot=mw_pot, rtpot=None, #host potential and tidal radius potential\n",
    "#                         tdisrupt=t_disrupt, \n",
    "#                         leading=True, \n",
    "#                         center=None, centerpot=None, \n",
    "#                         progpot=prog_pot, \n",
    "#                         mean=None, cov=None, ro=None, vo=None)\n",
    "\n",
    "# stream_c24_trail = gd.chen24spraydf(progenitor_mass=prog_mass,\n",
    "#                         progenitor=prog_orbit, \n",
    "#                         pot=mw_pot, rtpot=None, #host potential and tidal radius potential\n",
    "#                         tdisrupt=t_disrupt, \n",
    "#                         leading=False, \n",
    "#                         center=None, centerpot=None, \n",
    "#                         progpot=prog_pot, \n",
    "#                         mean=None, cov=None, ro=None, vo=None)\n"
   ]
  },
  {
   "cell_type": "code",
   "execution_count": null,
   "metadata": {},
   "outputs": [],
   "source": [
    "# # Integrating the progenitor orbit back in time to get the orbit instance at t_disrupt\n",
    "# ts= np.linspace(0.,4.5*u.Gyr,1000)\n",
    "# prog_orbit.integrate(-ts,mw_pot)\n",
    "# print(prog_orbit.x(t=-4.5*u.Gyr),prog_orbit.y(t=-4.5*u.Gyr),prog_orbit.z(t=-4.5*u.Gyr))\n",
    "# # prog_orbit.plot3d(d1='x',d2='y', d3='z')\n"
   ]
  }
 ],
 "metadata": {
  "kernelspec": {
   "display_name": "streams",
   "language": "python",
   "name": "python3"
  },
  "language_info": {
   "codemirror_mode": {
    "name": "ipython",
    "version": 3
   },
   "file_extension": ".py",
   "mimetype": "text/x-python",
   "name": "python",
   "nbconvert_exporter": "python",
   "pygments_lexer": "ipython3",
   "version": "3.13.2"
  }
 },
 "nbformat": 4,
 "nbformat_minor": 2
}
