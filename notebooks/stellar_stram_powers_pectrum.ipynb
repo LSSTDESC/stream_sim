{
 "cells": [
  {
   "cell_type": "markdown",
   "id": "891b76e6",
   "metadata": {},
   "source": [
    "# **From stellar stream/DM subhalos encounters to power spectrum: a one way analysis**"
   ]
  },
  {
   "cell_type": "markdown",
   "id": "3951deb9",
   "metadata": {},
   "source": [
    "# Description\n",
    "\n",
    "Like the stream_sim_galpy notebook, this notebook is meant to simulate stellar streams formed through star cluster accretion in a host potential, and have the same dependencies, apart from the galpy extension streampepperdf.py which allow the user to perform multiple DMS impact for one stellar stream pdf generation. To use it, the user must DL the python extension at https://gist.github.com/jobovy/1be0be25b525e5f50ea3 and add it to the galpy df folder, update the \\_init\\_.py file and change:\n",
    "\n",
    " \"from galpy.util import bovy_conversion, bovy_coords\" (because it is deprecated) to\\\n",
    " \"import galpy.util.conversion as bovy_conversion\\\n",
    "  import galpy.util.coords as bovy_coords\"\n",
    "\n",
    "It requires a config files, found in config folder, with particular cluster data (Pal_5 config fle is given as an example). User can create his own sts config file from the custom_config file in the same directory.\n",
    "It is paired with simulation/data analysis python files found in Codes directory.\n",
    "It switches beetween ICRS, galactic and (phi1, phi2) coordinate systems, depending of the user specification.\n",
    "\n",
    "Required libraries to make it work are specified in the README file."
   ]
  },
  {
   "cell_type": "markdown",
   "id": "c946bea3",
   "metadata": {},
   "source": [
    "Libraries"
   ]
  },
  {
   "cell_type": "code",
   "execution_count": 1,
   "id": "ca9f9254",
   "metadata": {},
   "outputs": [],
   "source": [
    "###Libraries\n",
    "#Mains\n",
    "%matplotlib widget\n",
    "# %matplotlib inline\n",
    "import galpy.potential as gp\n",
    "import galpy.df as gd #for streams PDF generation\n",
    "import galpy.actionAngle as ga\n",
    "from galpy.orbit import Orbit\n",
    "\n",
    "#Utils\n",
    "from importlib import reload\n",
    "import pandas as pd\n",
    "import sys\n",
    "import yaml\n",
    "import os\n",
    "#Define user path\n",
    "sys.path.append(os.path.abspath('../'))\n",
    "\n",
    "import numpy as np\n",
    "import matplotlib.pyplot as plt\n",
    "import seaborn as sns\n",
    "\n",
    "import astropy.units as u\n",
    "import astropy.coordinates as ac\n",
    "from astropy.table import Table\n",
    "# import galpy.util.conversion as guconv\n",
    "import galpy.util.coords as gucoord\n",
    "import galpy.util.conversion as guconv\n",
    "import gala.coordinates as gc #for great circle rotation\n",
    "with ac.galactocentric_frame_defaults.set(\"v4.0\"):\n",
    "    galcen_frame = ac.Galactocentric()"
   ]
  },
  {
   "cell_type": "code",
   "execution_count": 2,
   "id": "df2e4664",
   "metadata": {},
   "outputs": [
    {
     "data": {
      "text/plain": [
       "<module 'stream_galsim.impact_distribution' from '/home/hallouin/Documents/thall_2025/Streams/stream_sim/stream_galsim/impact_distribution.py'>"
      ]
     },
     "execution_count": 2,
     "metadata": {},
     "output_type": "execute_result"
    }
   ],
   "source": [
    "###Librairires for simulation and \n",
    "import stream_galsim.stream_utils as sutils; reload(sutils) #custom .py file with utilities\n",
    "from galpy.df import streampepperdf #Extension to perform multiple impact\n",
    "import stream_galsim.impact_distribution as sid; reload(sid)"
   ]
  },
  {
   "cell_type": "markdown",
   "id": "b7b4ec95",
   "metadata": {},
   "source": [
    "# Power spectrum of one stellar stream"
   ]
  },
  {
   "cell_type": "markdown",
   "id": "9e282f24",
   "metadata": {},
   "source": [
    "The goal here is to compute a power spectrum of a simulated stellar stream, by mimicking as much as we can the properties of an existing stellar stream."
   ]
  },
  {
   "cell_type": "markdown",
   "id": "4eb0068f",
   "metadata": {},
   "source": [
    "At first we set the properties of the unperturbed system, including a progenitor (usually a globular cluster) and an accreting host in which it is stripped."
   ]
  },
  {
   "cell_type": "markdown",
   "id": "9ef8145c",
   "metadata": {},
   "source": [
    "## Initialization"
   ]
  },
  {
   "cell_type": "code",
   "execution_count": 3,
   "id": "30a3ce2a",
   "metadata": {},
   "outputs": [
    {
     "name": "stdout",
     "output_type": "stream",
     "text": [
      "['Pal5', 229.0, -0.124, 22.9, -2.296, -2.257, -58.7]\n"
     ]
    }
   ],
   "source": [
    "##Load progenitor config file\n",
    "# Path to the yaml config file in the 'config' folder\n",
    "base_dir = os.path.abspath(os.path.join(os.getcwd(), '..'))\n",
    "config_file = 'galstreams_Pal5_config.yaml'\n",
    "config_path = os.path.join(base_dir, 'config', config_file)\n",
    "\n",
    "# Load YAML and convert it to a DataFrame\n",
    "with open(config_path, 'r') as file:\n",
    "    config_data = yaml.safe_load(file)\n",
    "\n",
    "##Display cluster data\n",
    "#current pose/velocity in ICRS\n",
    "stream_data = pd.DataFrame(config_data)\n",
    "# print(stream_data)\n",
    "#only progenitor data is wanted for our simulation\n",
    "progenitor = stream_data[4:].loc[:,[\"cluster\",\"ra\",\"dec\",\"distance\",\"pm_ra_cosdec\",\"pm_dec\",\"radial_velocity\"]]\n",
    "#[\"dec\",\"dec_unit\",\"distance\",\"distance_unit\",\"frame\",\"pm_dec\",\"pm_dec_unit\",\"pm_ra_cosdec\",\"pm_ra_cosdec_unit\", \"ra\",\"ra_unit\",\"radial_velocity\",\"radial_velocity_unit\"]\n",
    "print(progenitor.values.tolist()[0])"
   ]
  },
  {
   "cell_type": "code",
   "execution_count": 4,
   "id": "8101bd0c",
   "metadata": {},
   "outputs": [],
   "source": [
    "###Progenitor\n",
    "#progenitor coord \n",
    "cluster_name = progenitor.values.tolist()[0][0] #name\n",
    "prog_orbit = Orbit(progenitor.values.tolist()[0][1:], radec=True) #progenitor orbit instance. radec=True specify the frame used radec=ICRS\n",
    "\n",
    "\n",
    "prog_mass = 2*10.**4.*u.Msun\n",
    "prog_a = 20.*u.pc #scale radius of the plummer sphere\n",
    "rc = 23*u.pc #progenitor radius\n",
    "prog_pot = gp.PlummerPotential(prog_mass, prog_a)#Define progenitor with a plummer potential\n",
    "prog_sigv = 0.365 *u.km/u.s\n",
    "t_disrupt = 4.5*u.Gyr #time of disruption of cluster, typically 4.5Gyr\n",
    "# tdisrupt= guc.time_in_Gyr(V0,R0)"
   ]
  },
  {
   "cell_type": "code",
   "execution_count": 5,
   "id": "e4282185",
   "metadata": {},
   "outputs": [],
   "source": [
    "###Accreting host\n",
    "### Usually Milky way potential\n",
    "V0, R0= 245.6, 8.122 #scale parameters\n",
    "vsun=[-12.9,245.6,7.78] #for streamdf, vxyz\n",
    "mw_pot = gp.MWPotential2014\n",
    "aaisochrone = ga.actionAngleIsochroneApprox(pot=mw_pot,b=0.8)"
   ]
  },
  {
   "cell_type": "markdown",
   "id": "b0a30475",
   "metadata": {},
   "source": [
    "Simulating the unperturbed model"
   ]
  },
  {
   "cell_type": "code",
   "execution_count": 6,
   "id": "ed43eeaa",
   "metadata": {},
   "outputs": [
    {
     "name": "stdout",
     "output_type": "stream",
     "text": [
      "galpyWarning: Warning: progenitor's solarmotion does not agree with streamdf's vsun (after accounting for vo); this may have unexpected consequences when projecting into observables\n",
      "galpyWarning: In versions >1.3, the output unit of streamdf.misalignment has been changed to radian (from degree before)\n"
     ]
    }
   ],
   "source": [
    "#NonPerturbedStreamModel class from sid\n",
    "np.random.seed(4)\n",
    "SmoothStreamdf = sid.NonPerturbedStreamModel(sigv = prog_sigv,\n",
    "            progenitor=prog_orbit,\n",
    "            pot=mw_pot,\n",
    "            aA=aaisochrone,\n",
    "            leading=True,\n",
    "            ro = R0, #Distance scale for translation into internal units\n",
    "            vsun=vsun,\n",
    "            tdisrupt=t_disrupt)"
   ]
  },
  {
   "cell_type": "code",
   "execution_count": 7,
   "id": "03819a71",
   "metadata": {},
   "outputs": [
    {
     "name": "stdout",
     "output_type": "stream",
     "text": [
      "15.879295627829713 18.769286680719258 1.0500180297207204 4.5 Gyr\n"
     ]
    }
   ],
   "source": [
    "###Retrieve significant data from unperturbed streamdf\n",
    "smooth_length = SmoothStreamdf.stream_length()\n",
    "r_avg, r_max = SmoothStreamdf.compute_r_avg_max()\n",
    "d_omega_par = SmoothStreamdf.compute_average_Omega_parallel()\n",
    "# d_omega_par = SmoothStreamdf.estimate_Omega_parallel()\n",
    "print(r_avg, r_max, d_omega_par,t_disrupt)\n"
   ]
  },
  {
   "cell_type": "code",
   "execution_count": 8,
   "id": "f69c5900",
   "metadata": {},
   "outputs": [],
   "source": [
    "sdf = SmoothStreamdf.streamdf()"
   ]
  },
  {
   "cell_type": "markdown",
   "id": "5d373ff4",
   "metadata": {},
   "source": [
    "## Statistical sampling of a DM subhalos distribution"
   ]
  },
  {
   "cell_type": "markdown",
   "id": "2dad469f",
   "metadata": {},
   "source": [
    "We want to align the simulation as closely as possible with real astrophysical data. Therefore, it is necessary to define a realistic environment for creating a disturbed flow. We already have the progenitor and an accreting host, but we do not have a precise distribution of the DMS in the latter. \n",
    "\n",
    "- At first we sample a distribution of subhalos for the considered galactical/cosmological model (DMS_distribution class). \n",
    "- Then we compute an expected number of encounters within the stellar stream and the subhalos (N_encounter function). \n",
    "- Finally, we sample the distribution of impact parameters, considering the DMS distribution and the smooth stream model computed already.\n",
    "\n",
    "\n",
    "Considered properties and parameters in the model:\n",
    "- the impact time ti;\n",
    "- the angle parallel to the flow at which the impact occurs at the time of closest approach;\n",
    "- the flyby velocity of the dark matter halo;\n",
    "- the impact parameter;\n",
    "- the intrinsic properties of the subhalo (mass, density profile, and radius).\n",
    "- the mass range considered (Mmin,Mmax)\n"
   ]
  },
  {
   "cell_type": "code",
   "execution_count": 9,
   "id": "92d6e57f",
   "metadata": {},
   "outputs": [
    {
     "name": "stdout",
     "output_type": "stream",
     "text": [
      "0.12 kpc\n",
      "0.013922867542613022 1 / kpc3 385.6\n"
     ]
    }
   ],
   "source": [
    "#DMS_Distribution class from sid\n",
    "### Tests on Nenc\n",
    "Mmin, Mmax = 1e5, 1e9\n",
    "sigma_h = 150*u.km/u.s\n",
    "dms = sid.DMS_Distribution()\n",
    "bmax = dms.bmax_inmassrange(Mmin, Mmax, profile='NFW', alpha=5)\n",
    "print(f\"{bmax:.2f}\")\n",
    "\n",
    "n_h = dms.density_involume_inmassrange(r_max, Mmin, Mmax)\n",
    "N_h = dms.number_involume_inmassrange(r_max, Mmin, Mmax)\n",
    "print(f\"{n_h}\", f\"{N_h:.1f}\")\n"
   ]
  },
  {
   "cell_type": "code",
   "execution_count": 10,
   "id": "5bf4a6bb",
   "metadata": {},
   "outputs": [
    {
     "name": "stdout",
     "output_type": "stream",
     "text": [
      "78.54467427246766 rad\n"
     ]
    }
   ],
   "source": [
    "#N_encounter from sid\n",
    "N_enc = sid.expected_N_encounters(r_avg=r_avg, sigma_h=sigma_h, t_d=t_disrupt, delta_omega=d_omega_par, b_max=bmax, n_h=n_h)\n",
    "print(N_enc)"
   ]
  },
  {
   "cell_type": "code",
   "execution_count": 11,
   "id": "d990a8dd",
   "metadata": {},
   "outputs": [
    {
     "name": "stdout",
     "output_type": "stream",
     "text": [
      "Generating 7 impacts between the stream and subhalos\n",
      "t,theta,m,b, w[0], w[1], w[2]]\n",
      "[[ 2.09906639e+00  3.51629224e+00  1.23243410e+00  3.76641484e+00\n",
      "   2.34979085e+00  3.92236926e+00  3.27079127e+00]\n",
      " [ 2.47954161e-01  8.82211961e-01  3.96684110e-01  1.40109643e+00\n",
      "   5.70654780e-01  1.36597748e+00  7.69561375e-01]\n",
      " [ 4.81159310e+05  1.28766070e+06  1.99686376e+05  5.05014067e+05\n",
      "   1.48225595e+05  1.13661532e+05  1.07123972e+06]\n",
      " [ 3.64169651e-01  5.95744475e-01  2.34602978e-01  3.73087794e-01\n",
      "   2.02125406e-01  1.76997062e-01  5.43378733e-01]\n",
      " [ 5.54094776e+01  4.49675106e+02  2.28353408e+02  1.06012798e+02\n",
      "   1.30585766e+02  1.28699575e+02  3.15241131e+02]\n",
      " [ 3.77021066e+02 -6.15992748e+01 -2.06740419e+01 -1.16396506e+02\n",
      "  -9.40516856e+01 -8.77716254e+01 -1.18831357e+02]\n",
      " [-7.25978799e+01 -1.96514964e+01 -2.24819669e+02 -1.48216102e+02\n",
      "  -5.70852466e+01 -1.57280786e+02  1.60654899e+02]]\n"
     ]
    },
    {
     "data": {
      "application/vnd.jupyter.widget-view+json": {
       "model_id": "514adf423aff489c9060ca70d8d7dec4",
       "version_major": 2,
       "version_minor": 0
      },
      "image/png": "[encoded data removed]",
      "text/html": [
       "\n",
       "            <div style=\"display: inline-block;\">\n",
       "                <div class=\"jupyter-widgets widget-label\" style=\"text-align: center;\">\n",
       "                    Figure\n",
       "                </div>\n",
       "                <img src='data:image/png;base64,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' width=640.0/>\n",
       "            </div>\n",
       "        "
      ],
      "text/plain": [
       "Canvas(toolbar=Toolbar(toolitems=[('Home', 'Reset original view', 'home', 'home'), ('Back', 'Back to previous …"
      ]
     },
     "metadata": {},
     "output_type": "display_data"
    }
   ],
   "source": [
    "#ImpactSampler class from sid\n",
    "mass_range = (Mmin,Mmax)*u.Msun\n",
    "SIS = sid.ImpactSampler(5, mass_range, sigma_h, tdisrupt=t_disrupt, stream_length=smooth_length)\n",
    "impact_list = SIS.impact_list()\n",
    "\n",
    "print(impact_list.T)\n",
    "plt.figure()\n",
    "plt.plot(impact_list.T[2])\n",
    "plt.show()"
   ]
  },
  {
   "cell_type": "markdown",
   "id": "b31f553a",
   "metadata": {},
   "source": [
    "## Simulation of the peppered stream df"
   ]
  },
  {
   "cell_type": "markdown",
   "id": "3cb70830",
   "metadata": {},
   "source": [
    "Now that we have a physical distribution of impacts, we can simulate those impact onto the smooth stream df."
   ]
  },
  {
   "cell_type": "code",
   "execution_count": 12,
   "id": "c0c7534a",
   "metadata": {},
   "outputs": [],
   "source": [
    "###Progenitor\n",
    "#progenitor coord \n",
    "cluster_name = progenitor.values.tolist()[0][0] #name\n",
    "prog_orbit = Orbit(progenitor.values.tolist()[0][1:], radec=True) #progenitor orbit instance. radec=True specify the frame used radec=ICRS\n",
    "\n",
    "\n",
    "prog_mass = 2*10.**4.*u.Msun\n",
    "prog_a = 20.*u.pc #scale radius of the plummer sphere\n",
    "rc = 23*u.pc #progenitor radius\n",
    "prog_pot = gp.PlummerPotential(prog_mass, prog_a)#Define progenitor with a plummer potential\n",
    "prog_sigv = 0.365 *u.km/u.s\n",
    "t_disrupt = 4.5*u.Gyr #time of disruption of cluster, typically 4.5Gyr\n",
    "\n",
    "###Accreting host\n",
    "### Usually Milky way potential\n",
    "V0, R0= 245.6*u.km/u.s, 8.122*u.kpc #scale parameters\n",
    "vsun=[-12.9,245.6,7.78]*u.km/u.s #for streamdf, vxyz\n",
    "mw_pot = gp.MWPotential2014\n",
    "aaisochrone = ga.actionAngleIsochroneApprox(pot=mw_pot,b=0.8)"
   ]
  },
  {
   "cell_type": "code",
   "execution_count": 13,
   "id": "a8c7d214",
   "metadata": {},
   "outputs": [],
   "source": [
    "spdf = streampepperdf(\n",
    "    sigv=prog_sigv,\n",
    "    progenitor=prog_orbit,\n",
    "    pot=mw_pot,\n",
    "    aA=aaisochrone,\n",
    "    leading=True,\n",
    "    tdisrupt=t_disrupt,\n",
    "    nTrackChunks=26,\n",
    "    ro=R0,\n",
    "    vsun=vsun,\n",
    "    timpact=impact_list.T[0],  # en Gyr\n",
    "    # impact_angle=[0.1, 0.5],  # en radians\n",
    "    impactb=impact_list.T[3],  # en kpc\n",
    "    GM=impact_list.T[2]*6.67*10e-11,  # GM en unités galpy\n",
    "    rs=impact_list.T[3]/5  # rs en unités galpy\n",
    ")"
   ]
  },
  {
   "cell_type": "code",
   "execution_count": 19,
   "id": "cf69d503",
   "metadata": {},
   "outputs": [],
   "source": [
    "def sample_galactocentric(df, perturbed = True, n=1000):\n",
    "    \"\"\"\n",
    "    Sample stars and convert to configuration space.\n",
    "    \"\"\"\n",
    "    if perturbed:\n",
    "        #Sample actions-angles\n",
    "        freqs, angles, _ = df._sample_aAt(n)\n",
    "        #convert\n",
    "        coords = df._approxaAInv(freqs[0],freqs[1],freqs[2], angles[0],angles[1],angles[2]) #from aA space to cyl\n",
    "        coords = np.array(gucoord.cyl_to_rect(coords[0],coords[1],coords[2]))\n",
    "    else:\n",
    "        coords = df.sample(n, xy=True)\n",
    "    return coords"
   ]
  },
  {
   "cell_type": "code",
   "execution_count": 20,
   "id": "481028ba",
   "metadata": {},
   "outputs": [],
   "source": [
    "from galpy.util import conversion\n",
    "import numpy as np\n",
    "\n",
    "def sample_xyz(self, n=1000):\n",
    "    \"\"\"\n",
    "    Retourne les coordonnées Galactocentriques cartésiennes (X, Y, Z) en kpc\n",
    "    pour n étoiles du stream perturbé.\n",
    "\n",
    "    Returns\n",
    "    -------\n",
    "    xyz : np.ndarray, shape (n, 3)\n",
    "        Colonnes : X, Y, Z en kpc\n",
    "    \"\"\"\n",
    "    Om, angle, _ = self._sample_aAt(n)\n",
    "    ro = self._ro\n",
    "    vo = self._vo\n",
    "    \n",
    "    # Convertir (Omega, angle) → (R, vR, vT, z, vz, phi)\n",
    "    RvR = self._approxaAInv(\n",
    "        Om[0], Om[1], Om[2],\n",
    "        angle[0], angle[1], angle[2]\n",
    "    )\n",
    "    \n",
    "    R = RvR[0] * ro\n",
    "    phi = RvR[5]\n",
    "    Z = RvR[3] * ro\n",
    "\n",
    "    X = R * np.cos(phi)\n",
    "    Y = R * np.sin(phi)\n",
    "\n",
    "    return np.vstack((X, Y, Z)).T  # shape (n, 3)\n"
   ]
  },
  {
   "cell_type": "code",
   "execution_count": 21,
   "id": "624dff99",
   "metadata": {},
   "outputs": [],
   "source": [
    "sample_xyz\n",
    "np.random.seed(4)\n",
    "pstars = sample_xyz(spdf, n=1000)"
   ]
  },
  {
   "cell_type": "code",
   "execution_count": 22,
   "id": "50f26d5c",
   "metadata": {},
   "outputs": [
    {
     "name": "stdout",
     "output_type": "stream",
     "text": [
      "[[-7.40795724 -7.75376558 -6.43835191 ... -7.45358189 -7.97508551\n",
      "  -5.16918709]\n",
      " [-1.1500294  -0.47787678 -3.05977291 ... -1.10373696  0.10985319\n",
      "  -4.8669458 ]\n",
      " [16.14830949 16.29243526 15.20726025 ... 16.20295667 16.4252298\n",
      "  13.4455842 ]\n",
      " [ 1.98046738  1.80894158  2.45022426 ...  1.9468398   1.65571264\n",
      "   2.91474385]\n",
      " [-4.29807914 -4.30944803 -4.17215525 ... -4.30794497 -4.30621522\n",
      "  -3.86109024]\n",
      " [-1.4588022  -1.02799466 -2.6812022  ... -1.42597272 -0.68520824\n",
      "  -4.12704787]] kpc\n"
     ]
    }
   ],
   "source": [
    "np.random.seed(4)\n",
    "stars = sample_galactocentric(sdf, perturbed = False, n=1000)*R0\n",
    "print(stars)"
   ]
  },
  {
   "cell_type": "code",
   "execution_count": 23,
   "id": "935fe121",
   "metadata": {},
   "outputs": [],
   "source": [
    "### sampled stars positions\n",
    "#Extract positions from sampled stars, in xyz galactocentric\n",
    "X_ps, Y_ps, Z_ps = np.array(stars[:3])* u.kpc# apply np.array()* u.kpc if needed\n",
    "X_ps = -X_ps #galpy use lefthanded frame, we use righthanded x-> -x\n",
    "#apply cartesian galactocentric frame to these positions\n",
    "\n",
    "with ac.galactocentric_frame_defaults.set(\"v4.0\"):  # Use latest MW parameters\n",
    "    galcen_ps = ac.Galactocentric(x=X_ps, y=Y_ps, z=Z_ps)\n",
    "\n",
    "#convert galcen into icrs (as seen from observer)\n",
    "icrs_ps = galcen_ps.transform_to(ac.ICRS())\n",
    "\n",
    "ra_ps, dec_ps, dist_ps = icrs_ps.T.ra.degree, icrs_ps.T.dec.degree, icrs_ps.T.distance.kpc #ra,dec,distance"
   ]
  },
  {
   "cell_type": "code",
   "execution_count": 24,
   "id": "31ca980d",
   "metadata": {},
   "outputs": [
    {
     "name": "stdout",
     "output_type": "stream",
     "text": [
      "(7.86390455, 0.22748727, 16.41622487) kpc\n"
     ]
    },
    {
     "data": {
      "text/plain": [
       "Text(0, 0.5, 'Y')"
      ]
     },
     "execution_count": 24,
     "metadata": {},
     "output_type": "execute_result"
    },
    {
     "data": {
      "application/vnd.jupyter.widget-view+json": {
       "model_id": "9880a4bba6864c909e9138f5450ad001",
       "version_major": 2,
       "version_minor": 0
      },
      "image/png": "[encoded data removed]",
      "text/html": [
       "\n",
       "            <div style=\"display: inline-block;\">\n",
       "                <div class=\"jupyter-widgets widget-label\" style=\"text-align: center;\">\n",
       "                    Figure\n",
       "                </div>\n",
       "                <img src='data:image/png;base64,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' width=640.0/>\n",
       "            </div>\n",
       "        "
      ],
      "text/plain": [
       "Canvas(toolbar=Toolbar(toolitems=[('Home', 'Reset original view', 'home', 'home'), ('Back', 'Back to previous …"
      ]
     },
     "metadata": {},
     "output_type": "display_data"
    }
   ],
   "source": [
    "#3D representation\n",
    "#Cluster, local background potential\n",
    "c = ac.ICRS(ra=229 * u.deg, dec=-0.124 * u.deg,\n",
    "               distance=22.9 * u.kpc,\n",
    "               pm_ra_cosdec=-2.296 * u.mas/u.yr,\n",
    "               pm_dec=-2.257 * u.mas/u.yr,\n",
    "               radial_velocity=-58.7 * u.km/u.s)\n",
    "c_gc = c.transform_to(galcen_frame)\n",
    "print(c_gc.cartesian)\n",
    "fig2 = plt.figure()\n",
    "ax2 = fig2.add_subplot()\n",
    "\n",
    "ax2.scatter(X_ps, Y_ps, alpha=0.5, s=3)#sts\n",
    "# ax2.scatter(c_gc.cartesian.x,c_gc.cartesian.y,s=100)#progenitor\n",
    "# ax2.scatter(0,0)#galatic center\n",
    "\n",
    "ax2.set_xlabel('X')\n",
    "ax2.set_ylabel('Y')\n",
    "# ax2.set_zlabel('Z')"
   ]
  },
  {
   "cell_type": "code",
   "execution_count": null,
   "id": "c6b48b2a",
   "metadata": {},
   "outputs": [],
   "source": []
  }
 ],
 "metadata": {
  "kernelspec": {
   "display_name": "streams",
   "language": "python",
   "name": "streams"
  },
  "language_info": {
   "codemirror_mode": {
    "name": "ipython",
    "version": 3
   },
   "file_extension": ".py",
   "mimetype": "text/x-python",
   "name": "python",
   "nbconvert_exporter": "python",
   "pygments_lexer": "ipython3",
   "version": "3.13.2"
  }
 },
 "nbformat": 4,
 "nbformat_minor": 5
}
