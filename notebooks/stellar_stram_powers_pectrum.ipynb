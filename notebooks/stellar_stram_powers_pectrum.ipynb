{
 "cells": [
  {
   "cell_type": "markdown",
   "id": "891b76e6",
   "metadata": {},
   "source": [
    "# **From stellar stream/DM subhalos encounters to power spectrum: a one way analysis**"
   ]
  },
  {
   "cell_type": "markdown",
   "id": "3951deb9",
   "metadata": {},
   "source": [
    "# Description\n",
    "\n",
    "Like the stream_sim_galpy notebook, this notebook is meant to simulate stellar streams formed through star cluster accretion in a host potential, and have the same dependencies, apart from the galpy extension streampepperdf.py which allow the user to perform multiple DMS impact for one stellar stream pdf generation. To use it, the user must DL the python extension at https://gist.github.com/jobovy/1be0be25b525e5f50ea3 and add it to the galpy df folder, update the \\_init\\_.py file and change:\n",
    "\n",
    " \"from galpy.util import bovy_conversion, bovy_coords\" (because it is deprecated) to\\\n",
    " \"import galpy.util.conversion as bovy_conversion\\\n",
    "  import galpy.util.coords as bovy_coords\"\n",
    "\n",
    "It requires a config files, found in config folder, with particular cluster data (Pal_5 config fle is given as an example). User can create his own sts config file from the custom_config file in the same directory.\n",
    "It is paired with simulation/data analysis python files found in Codes directory.\n",
    "It switches beetween ICRS, galactic and (phi1, phi2) coordinate systems, depending of the user specification.\n",
    "\n",
    "Required libraries to make it work are specified in the README file."
   ]
  },
  {
   "cell_type": "markdown",
   "id": "c946bea3",
   "metadata": {},
   "source": [
    "Libraries"
   ]
  },
  {
   "cell_type": "code",
   "execution_count": 8,
   "id": "ca9f9254",
   "metadata": {},
   "outputs": [],
   "source": [
    "###Libraries\n",
    "#Mains\n",
    "%matplotlib widget\n",
    "# %matplotlib inline\n",
    "import galpy.potential as gp\n",
    "import galpy.df as gd #for streams PDF generation\n",
    "import galpy.actionAngle as ga\n",
    "from galpy.orbit import Orbit\n",
    "\n",
    "#Utils\n",
    "from importlib import reload\n",
    "import pandas as pd\n",
    "import sys\n",
    "import yaml\n",
    "import os\n",
    "#Define user path\n",
    "sys.path.append(os.path.abspath('../'))\n",
    "\n",
    "import numpy as np\n",
    "import matplotlib.pyplot as plt\n",
    "import seaborn as sns\n",
    "\n",
    "import astropy.units as u\n",
    "import astropy.coordinates as ac\n",
    "from astropy.table import Table\n",
    "# import galpy.util.conversion as guconv\n",
    "import galpy.util.coords as gucoord\n",
    "import galpy.util.conversion as guconv\n",
    "import gala.coordinates as gc #for great circle rotation\n",
    "with ac.galactocentric_frame_defaults.set(\"v4.0\"):\n",
    "    galcen_frame = ac.Galactocentric()"
   ]
  },
  {
   "cell_type": "code",
   "execution_count": 9,
   "id": "df2e4664",
   "metadata": {},
   "outputs": [
    {
     "data": {
      "text/plain": [
       "<module 'stream_galsim.impact_distribution' from '/home/hallouin/Documents/thall_2025/Streams/stream_sim/stream_galsim/impact_distribution.py'>"
      ]
     },
     "execution_count": 9,
     "metadata": {},
     "output_type": "execute_result"
    }
   ],
   "source": [
    "###Librairires for simulation and \n",
    "import stream_galsim.stream_utils as sutils; reload(sutils) #custom .py file with utilities\n",
    "from galpy.df import streampepperdf #Extension to perform multiple impact\n",
    "import stream_galsim.impact_distribution as sid; reload(sid)\n"
   ]
  },
  {
   "cell_type": "markdown",
   "id": "b7b4ec95",
   "metadata": {},
   "source": [
    "# Power spectrum of one stellar stream"
   ]
  },
  {
   "cell_type": "markdown",
   "id": "9e282f24",
   "metadata": {},
   "source": [
    "The goal here is to compute a power spectrum of a simulated stellar stream, by mimicking as much as we can the properties of an existing stellar stream."
   ]
  },
  {
   "cell_type": "markdown",
   "id": "4eb0068f",
   "metadata": {},
   "source": [
    "At first we set the properties of the unperturbed system, including a progenitor (usually a globular cluster) and an accreting host in which it is stripped."
   ]
  },
  {
   "cell_type": "markdown",
   "id": "9ef8145c",
   "metadata": {},
   "source": [
    "## Initialization"
   ]
  },
  {
   "cell_type": "code",
   "execution_count": 3,
   "id": "30a3ce2a",
   "metadata": {},
   "outputs": [
    {
     "name": "stdout",
     "output_type": "stream",
     "text": [
      "['Pal5', 229.0, -0.124, 22.9, -2.296, -2.257, -58.7]\n"
     ]
    }
   ],
   "source": [
    "##Load progenitor config file\n",
    "# Path to the yaml config file in the 'config' folder\n",
    "base_dir = os.path.abspath(os.path.join(os.getcwd(), '..'))\n",
    "config_file = 'galstreams_Pal5_config.yaml'\n",
    "config_path = os.path.join(base_dir, 'config', config_file)\n",
    "\n",
    "# Load YAML and convert it to a DataFrame\n",
    "with open(config_path, 'r') as file:\n",
    "    config_data = yaml.safe_load(file)\n",
    "\n",
    "##Display cluster data\n",
    "#current pose/velocity in ICRS\n",
    "stream_data = pd.DataFrame(config_data)\n",
    "# print(stream_data)\n",
    "#only progenitor data is wanted for our simulation\n",
    "progenitor = stream_data[4:].loc[:,[\"cluster\",\"ra\",\"dec\",\"distance\",\"pm_ra_cosdec\",\"pm_dec\",\"radial_velocity\"]]\n",
    "#[\"dec\",\"dec_unit\",\"distance\",\"distance_unit\",\"frame\",\"pm_dec\",\"pm_dec_unit\",\"pm_ra_cosdec\",\"pm_ra_cosdec_unit\", \"ra\",\"ra_unit\",\"radial_velocity\",\"radial_velocity_unit\"]\n",
    "print(progenitor.values.tolist()[0])"
   ]
  },
  {
   "cell_type": "code",
   "execution_count": 4,
   "id": "8101bd0c",
   "metadata": {},
   "outputs": [],
   "source": [
    "###Progenitor\n",
    "#progenitor coord \n",
    "cluster_name = progenitor.values.tolist()[0][0] #name\n",
    "prog_orbit = Orbit(progenitor.values.tolist()[0][1:], radec=True) #progenitor orbit instance. radec=True specify the frame used radec=ICRS\n",
    "\n",
    "\n",
    "prog_mass = 2*10.**4.*u.Msun\n",
    "prog_a = 20.*u.pc #scale radius of the plummer sphere\n",
    "rc = 23*u.pc #progenitor radius\n",
    "prog_pot = gp.PlummerPotential(prog_mass, prog_a)#Define progenitor with a plummer potential\n",
    "prog_sigv = 0.365 *u.km/u.s\n",
    "t_disrupt = 4.5*u.Gyr #time of disruption of cluster, typically 4.5Gyr\n",
    "# tdisrupt= guc.time_in_Gyr(V0,R0)"
   ]
  },
  {
   "cell_type": "code",
   "execution_count": 5,
   "id": "e4282185",
   "metadata": {},
   "outputs": [],
   "source": [
    "###Accreting host\n",
    "### Usually Milky way potential\n",
    "V0, R0= 245.6, 8.122 #scale parameters\n",
    "vsun=[-12.9,245.6,7.78] #for streamdf, vxyz\n",
    "mw_pot = gp.MWPotential2014\n",
    "aaisochrone = ga.actionAngleIsochroneApprox(pot=mw_pot,b=1.5)"
   ]
  },
  {
   "cell_type": "markdown",
   "id": "b0a30475",
   "metadata": {},
   "source": [
    "Simulating the unperturbed model"
   ]
  },
  {
   "cell_type": "code",
   "execution_count": 6,
   "id": "ed43eeaa",
   "metadata": {},
   "outputs": [
    {
     "ename": "AttributeError",
     "evalue": "module 'stream_galsim.impact_distribution' has no attribute 'NonPerturbedStreamModel'",
     "output_type": "error",
     "traceback": [
      "\u001b[31m---------------------------------------------------------------------------\u001b[39m",
      "\u001b[31mAttributeError\u001b[39m                            Traceback (most recent call last)",
      "\u001b[36mCell\u001b[39m\u001b[36m \u001b[39m\u001b[32mIn[6]\u001b[39m\u001b[32m, line 1\u001b[39m\n\u001b[32m----> \u001b[39m\u001b[32m1\u001b[39m \u001b[43msid\u001b[49m\u001b[43m.\u001b[49m\u001b[43mNonPerturbedStreamModel\u001b[49m(sigv = prog_sigv,\n\u001b[32m      2\u001b[39m             progenitor=prog_orbit,\n\u001b[32m      3\u001b[39m             pot=mw_pot,\n\u001b[32m      4\u001b[39m             aA=aaisochrone,\n\u001b[32m      5\u001b[39m             leading=\u001b[38;5;28;01mTrue\u001b[39;00m,\n\u001b[32m      6\u001b[39m             ro = R0, \u001b[38;5;66;03m#Distance scale for translation into internal units\u001b[39;00m\n\u001b[32m      7\u001b[39m             vsun=vsun,\n\u001b[32m      8\u001b[39m             tdisrupt=t_disrupt)\n",
      "\u001b[31mAttributeError\u001b[39m: module 'stream_galsim.impact_distribution' has no attribute 'NonPerturbedStreamModel'"
     ]
    }
   ],
   "source": [
    "sid.NonPerturbedStreamModel(sigv = prog_sigv,\n",
    "            progenitor=prog_orbit,\n",
    "            pot=mw_pot,\n",
    "            aA=aaisochrone,\n",
    "            leading=True,\n",
    "            ro = R0, #Distance scale for translation into internal units\n",
    "            vsun=vsun,\n",
    "            tdisrupt=t_disrupt)"
   ]
  },
  {
   "cell_type": "markdown",
   "id": "5d373ff4",
   "metadata": {},
   "source": [
    "## Statistical sampling of a DM subhalos distribution"
   ]
  },
  {
   "cell_type": "markdown",
   "id": "2dad469f",
   "metadata": {},
   "source": [
    "We want to match as much as we can the simulation to real data, thus we need to set a realistic environment of creation of a perturbed stream. Already having the progenitor and an accreting host, we miss an accurate distribution of DMS in the accreting host. Thus we list the impact properties:\n",
    "- the impact time ti.\n",
    "- the stream parallel angle at which the impact occurs at the time of closest approach.\n",
    "- the fly-by velocity of the dark matter halo.\n",
    "- the impact parameter\n",
    "- the intrinsic properties of the subhalo (mass, density profile and radius)\n",
    "\n",
    "Those properties "
   ]
  },
  {
   "cell_type": "code",
   "execution_count": 5,
   "id": "92d6e57f",
   "metadata": {},
   "outputs": [],
   "source": [
    "### Impact times"
   ]
  },
  {
   "cell_type": "code",
   "execution_count": null,
   "id": "d990a8dd",
   "metadata": {},
   "outputs": [],
   "source": []
  }
 ],
 "metadata": {
  "kernelspec": {
   "display_name": "streams",
   "language": "python",
   "name": "streams"
  },
  "language_info": {
   "codemirror_mode": {
    "name": "ipython",
    "version": 3
   },
   "file_extension": ".py",
   "mimetype": "text/x-python",
   "name": "python",
   "nbconvert_exporter": "python",
   "pygments_lexer": "ipython3",
   "version": "3.13.2"
  }
 },
 "nbformat": 4,
 "nbformat_minor": 5
}
