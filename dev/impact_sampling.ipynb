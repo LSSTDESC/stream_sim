{
 "cells": [
  {
   "cell_type": "markdown",
   "id": "aaf70669",
   "metadata": {},
   "source": [
    "# Notebook for the development of functions"
   ]
  },
  {
   "cell_type": "code",
   "execution_count": 1,
   "id": "0041fa90",
   "metadata": {},
   "outputs": [],
   "source": [
    "import sys\n",
    "import os\n",
    "import astropy.units as u\n",
    "import numpy as np\n",
    "sys.path.append(os.path.abspath('../'))"
   ]
  },
  {
   "cell_type": "markdown",
   "id": "10458afb",
   "metadata": {},
   "source": [
    "# Dark matter subhalo impact parameter sampling"
   ]
  },
  {
   "cell_type": "markdown",
   "id": "94e228d2",
   "metadata": {},
   "source": [
    "## Subhalo density\n",
    "\n",
    "From model, compute estimation of the subhalo density to compute the impact rate"
   ]
  },
  {
   "cell_type": "code",
   "execution_count": 24,
   "id": "4594ce90",
   "metadata": {},
   "outputs": [],
   "source": [
    "import numpy as np\n",
    "from scipy.integrate import quad\n",
    "import astropy.units as u\n",
    "from astropy.units import Quantity\n",
    "\n",
    "\n",
    "class DMS_Distribution:\n",
    "    \"\"\"\n",
    "    A class to model the distribution of dark matter subhalos (DMS)\n",
    "    in a galactic halo. Includes:\n",
    "     - Number of subhalos within a mass range and galactic radius;\n",
    "     - Subhalo intrinsic spatial profile;\n",
    "     - Mass and radius configuration.\n",
    "    \"\"\"\n",
    "\n",
    "    def __init__(self,\n",
    "                 profile='einasto',\n",
    "                 profile_params=None,\n",
    "                 r_max=300.0):\n",
    "        self.profile = profile\n",
    "        self.profile_params = profile_params or {'alpha': 0.678, 'r_minus2': 199}\n",
    "        self.r_max = r_max\n",
    "\n",
    "    def _to_quantity(self, val, unit):\n",
    "        \"\"\"\n",
    "        Convert float or int to Quantity with assumed unit,\n",
    "        or return the Quantity with correct unit.\n",
    "        \"\"\"\n",
    "        if isinstance(val, Quantity):\n",
    "            return val.to(unit)\n",
    "        else:\n",
    "            return val * unit\n",
    "\n",
    "    def mass_function(self, M, a0=1.56e-5, m0=2.52e7, n=-1.9):\n",
    "        \"\"\"\n",
    "        Subhalo mass function dN/dM (cf: The Aquarius Project: the subhalos of galactic halosV. Springel1, J. Wang).\n",
    "        \"\"\"\n",
    "        return a0 * (M / m0)**n\n",
    "\n",
    "    def integrate_mass_function(self, M_min, M_max):\n",
    "        \"\"\"\n",
    "        Integrate the subhalo mass function over a given mass range.\n",
    "        \"\"\"\n",
    "        return quad(lambda M: self.mass_function(M), M_min, M_max)[0]\n",
    "\n",
    "    def spatial_profile(self, r):\n",
    "        \"\"\"\n",
    "        Spatial number density profile of subhalos.\n",
    "        Currently supports only 'einasto'.\n",
    "        \"\"\"\n",
    "        if self.profile == 'einasto':\n",
    "            alpha = self.profile_params['alpha']\n",
    "            r_minus2 = self.profile_params['r_minus2']\n",
    "            x = r / r_minus2\n",
    "            return np.exp(-2 / alpha * (x**alpha - 1))\n",
    "        else:\n",
    "            raise NotImplementedError(f\"Profile {self.profile} not implemented. Profiles: ['einasto']\")\n",
    "\n",
    "    def integrate_spatial_profile(self, r_min=0.01, r_max=None):\n",
    "        \"\"\"\n",
    "        Fraction of subhalos within [r_min, r_max] based on spatial profile.\n",
    "        \"\"\"\n",
    "        r_max = r_max or self.r_max\n",
    "\n",
    "        integrand = lambda r: 4 * np.pi * r**2 * self.spatial_profile(r)\n",
    "\n",
    "        total = quad(integrand, 0.01, self.r_max)[0]\n",
    "        partial = quad(integrand, r_min, r_max)[0]\n",
    "\n",
    "        return partial / total\n",
    "\n",
    "    def number_involume_inmassrange(self, R, M_min=1e5, M_max=1e9):\n",
    "        \"\"\"\n",
    "        Total number of subhalos within radius R.\n",
    "        \"\"\"\n",
    "        R = self._to_quantity(R, u.kpc).value\n",
    "        M_min = self._to_quantity(M_min, u.Msun).value\n",
    "        M_max = self._to_quantity(M_max, u.Msun).value\n",
    "\n",
    "        N_mass = self.integrate_mass_function(M_min, M_max)\n",
    "        f_spatial = self.integrate_spatial_profile(r_max=R)\n",
    "        return N_mass * f_spatial\n",
    "\n",
    "    def density_involume_inmassrange(self, R, M_min=1e5, M_max=1e9):\n",
    "        \"\"\"\n",
    "        density (/kpc3) of subhalos within radius R.\n",
    "        \"\"\"\n",
    "        R = self._to_quantity(R, u.kpc)\n",
    "        V = (4/3) * np.pi * R**3\n",
    "\n",
    "        N = self.number_involume_inmassrange(R, M_min, M_max)\n",
    "        return (N / V).to(1 / u.kpc**3)\n",
    "\n",
    "    def bmax_inmassrange(self, M_min, M_max, profile='NFW', alpha=5.0):\n",
    "        \"\"\"\n",
    "        Typical bmax in the considered mass range. Depends of the subhalo profile and an adjustable parameter\n",
    "        \"\"\"\n",
    "        M_min = self._to_quantity(M_min, u.Msun).value\n",
    "        M_max = self._to_quantity(M_max, u.Msun).value\n",
    "        M_avg = 10**np.mean([np.log10(M_min), np.log10(M_max)])\n",
    "\n",
    "        if profile == 'NFW':\n",
    "            c = 15 * (M_avg / 1e8)**-0.1 #concentration profile\n",
    "            r_vir = 1.0 * (M_avg / 1e8)**(1/3)  # virial radius\n",
    "            rs = r_vir / c\n",
    "        elif profile == 'Plummer':\n",
    "            rs = (M_avg / 1e8)**0.5 * 1.0\n",
    "        else:\n",
    "            raise ValueError(\"Unrecognized profile. choose NFW or Plummer\")\n",
    "\n",
    "        return (alpha * rs) * u.kpc\n",
    "\n"
   ]
  },
  {
   "cell_type": "code",
   "execution_count": 25,
   "id": "79631cf9",
   "metadata": {},
   "outputs": [
    {
     "name": "stdout",
     "output_type": "stream",
     "text": [
      "0.07 kpc\n",
      "0.0006622051795859597 1 / kpc3\n"
     ]
    }
   ],
   "source": [
    "dms = DMS_Distribution()\n",
    "bmax = dms.bmax_inmassrange(1e6, 1e7, profile='NFW', alpha=5)\n",
    "print(f\"{bmax:.2f}\")\n",
    "\n",
    "dms = DMS_Distribution()\n",
    "n_h = dms.density_involume_inmassrange(25, 1e6, 1e7)\n",
    "print(f\"{n_h}\")"
   ]
  },
  {
   "cell_type": "markdown",
   "id": "35bcbd36",
   "metadata": {},
   "source": [
    "## impact rate\n",
    "\n",
    "from physical parameters, compute the average number of encounter with subhalos the stream had during its past lifetime."
   ]
  },
  {
   "cell_type": "code",
   "execution_count": 31,
   "id": "ae3d3b5d",
   "metadata": {},
   "outputs": [
    {
     "data": {
      "text/latex": [
       "$44.416586 \\; \\mathrm{\\frac{Gyr\\,km\\,rad}{kpc\\,s}}$"
      ],
      "text/plain": [
       "<Quantity 44.41658572 Gyr km rad / (kpc s)>"
      ]
     },
     "execution_count": 31,
     "metadata": {},
     "output_type": "execute_result"
    }
   ],
   "source": [
    "def expected_N_encounters(\n",
    "    r_avg,      # average galactocentric radius of the stream (kpc)\n",
    "    sigma_h,    # velocity dispersion (km/s)\n",
    "    t_d,        # stream age (Gyr)\n",
    "    delta_omega, # mean-paralel-frequency parameter of the smooth stream (rad/Gyr)\n",
    "    b_max,      # max impact parameter (kpc)\n",
    "    n_h        # sub_halo density (kpc^-3)\n",
    "    ):\n",
    "\n",
    "    #convert to correct quantity\n",
    "    def _to_quantity(val, unit):\n",
    "        if isinstance(val, Quantity):\n",
    "            return val.to(unit)\n",
    "        else:\n",
    "            return val * unit\n",
    "\n",
    "    r_avg = _to_quantity(r_avg, u.kpc)\n",
    "    sigma_h = _to_quantity(sigma_h, u.km/u.s)\n",
    "    t_d = _to_quantity(t_d, u.Gyr)\n",
    "    delta_omega =_to_quantity(delta_omega, u.rad/u.Gyr)\n",
    "    b_max = _to_quantity(b_max, u.kpc)\n",
    "    n_h = _to_quantity(n_h, u.kpc**(-3))\n",
    "    \n",
    "    N_enc = (np.sqrt(np.pi) / 2) * r_avg * sigma_h * t_d**2 \\\n",
    "            * delta_omega * b_max * n_h\n",
    "    \n",
    "    return N_enc\n",
    "\n",
    "expected_N_encounters(25, 150, 4.5, 1, 1, 0.00066)"
   ]
  },
  {
   "cell_type": "markdown",
   "id": "a45f52ec",
   "metadata": {},
   "source": [
    "## Impact_time sampling"
   ]
  },
  {
   "cell_type": "markdown",
   "id": "ce10bd72",
   "metadata": {},
   "source": [
    "Already having the progenitor and an accreting host, we miss an accurate distribution of DMS in the accreting host. Thus we list the impact properties:\n",
    "- the impact time ti.\n",
    "- the stream parallel angle at which the impact occurs at the time of closest approach.\n",
    "- the fly-by velocity of the dark matter halo.\n",
    "- the impact parameter\n",
    "- the intrinsic properties of the subhalo (mass, density profile and radius)\n"
   ]
  },
  {
   "cell_type": "code",
   "execution_count": null,
   "id": "6250a43f",
   "metadata": {},
   "outputs": [],
   "source": []
  },
  {
   "cell_type": "markdown",
   "id": "f6924f47",
   "metadata": {},
   "source": [
    "## Impact_angle sampling"
   ]
  },
  {
   "cell_type": "code",
   "execution_count": null,
   "id": "deff1f19",
   "metadata": {},
   "outputs": [],
   "source": []
  },
  {
   "cell_type": "markdown",
   "id": "011959d5",
   "metadata": {},
   "source": [
    "## Unperturbed stream sampling\n"
   ]
  },
  {
   "cell_type": "code",
   "execution_count": null,
   "id": "c37b6ef7",
   "metadata": {},
   "outputs": [],
   "source": [
    "import numpy as np\n",
    "import galpy.potential as gp\n",
    "import galpy.actionAngle as ga\n",
    "from galpy.orbit import Orbit\n",
    "from galpy.df import streamdf\n",
    "import stream_galsim.stream_utils as sutils\n",
    "\n",
    "class NonPerturbedStreamModel:\n",
    "    '''\n",
    "    Generate a unperturbed stream model and retrieve data to generate impact parameters distribution\n",
    "    '''\n",
    "    def __init__(self, prog_orbit, prog_sigv, mw_pot, aA, t_disrupt, leading=True, ro=8.122, vsun=[-12.9, 245.6, 7.78]):\n",
    "        self.t_disrupt = t_disrupt.to_value('Gyr')\n",
    "        self.pot = mw_pot\n",
    "        self.orbit = prog_orbit\n",
    "        self.sigv = prog_sigv\n",
    "        self.aA = aA\n",
    "        self.leading = leading\n",
    "        self.ro = ro\n",
    "        self.vsun = vsun\n",
    "\n",
    "        # Generate stream\n",
    "        self.stream = streamdf(\n",
    "            sigv=self.sigv,\n",
    "            progenitor=self.orbit,\n",
    "            pot=self.pot,\n",
    "            aA=self.aA,\n",
    "            tdisrupt=self.t_disrupt,\n",
    "            leading=self.leading,\n",
    "            nTrackChunks=26,\n",
    "            ro=self.ro,\n",
    "            vsun=self.vsun\n",
    "        )\n",
    "\n",
    "    def compute_r_avg(self, npts=1000):\n",
    "        #average radius from the galactic center of the orbit \n",
    "        ts = np.linspace(0., -self.t_disrupt, npts)\n",
    "        self.orbit.integrate(ts, self.pot)\n",
    "        r = np.sqrt(self.orbit.x(ts)**2 + self.orbit.y(ts)**2 + self.orbit.z(ts)**2)\n",
    "        return np.mean(r)\n",
    "\n",
    "    def compute_Omega_parallel(self, npts=1000):\n",
    "        # Sample angles and frequencies\n",
    "        aA_data = self.stream.sample(n=npts, returnaAdt=True)  # list of (actions, angles, freqs)\n",
    "        freqs = aA_data[0].T\n",
    "        angles = aA_data[1].T\n",
    "\n",
    "        # Find dominant direction in angle-space\n",
    "        angles_centered = angles - angles.mean(axis=0)\n",
    "        _, _, Vt = np.linalg.svd(angles_centered)\n",
    "        diff_dir = Vt[0]  # principal component\n",
    "\n",
    "        # Project average frequency onto that direction\n",
    "        Omega_mean = freqs.mean(axis=0)\n",
    "        Omega_parallel = np.dot(Omega_mean, diff_dir)\n",
    "        return Omega_parallel\n",
    "\n",
    "    def get_disruption_time(self):\n",
    "        return self.t_disrupt\n"
   ]
  },
  {
   "cell_type": "code",
   "execution_count": 5,
   "id": "d367c212",
   "metadata": {},
   "outputs": [
    {
     "name": "stdout",
     "output_type": "stream",
     "text": [
      "0.36448724205723426 km / s\n"
     ]
    }
   ],
   "source": [
    "###test \n",
    "###Progenitor\n",
    "#progenitor coord \n",
    "prog_orbit = Orbit([229.0, -0.124, 22.9, -2.296, -2.257, -58.7], radec=True)\n",
    "\n",
    "prog_mass = 2*10.**4.*u.Msun\n",
    "prog_a = 4.*u.pc #scale radius of the plummer sphere\n",
    "rc = 23*u.pc #progenitor radius\n",
    "prog_pot = gp.PlummerPotential(prog_mass, prog_a)#Define progenitor with a plummer potential\n",
    "prog_sigv = sutils.Plummer_sigv(prog_mass, prog_a, rc)/2.15 #velocity dispersion in original cluster. It's assumed that the velocity distribution is isotropic\n",
    "print(prog_sigv)\n",
    "t_disrupt = 4.5*u.Gyr #time of disruption of cluster, typically 4.5Gyr\n",
    "# tdisrupt= guc.time_in_Gyr(V0,R0)\n",
    "\n",
    "###Accreting host\n",
    "### Usually Milky way potential\n",
    "V0, R0= 245.6, 8.122 #scale parameters\n",
    "vsun=[-12.9,245.6,7.78] #for streamdf, vxyz\n",
    "mw_pot = gp.MWPotential2014\n",
    "#mw_pot = gp.LogarithmicHaloPotential(normalize=1.,q=0.9) #is also often used\n",
    "\n",
    "aaisochrone = ga.actionAngleIsochroneApprox(pot=mw_pot,b=1.5)"
   ]
  },
  {
   "cell_type": "code",
   "execution_count": null,
   "id": "250d46cc",
   "metadata": {},
   "outputs": [
    {
     "name": "stdout",
     "output_type": "stream",
     "text": [
      "galpyWarning: Warning: progenitor's solarmotion does not agree with streamdf's vsun (after accounting for vo); this may have unexpected consequences when projecting into observables\n",
      "galpyWarning: In versions >1.3, the output unit of streamdf.misalignment has been changed to radian (from degree before)\n"
     ]
    }
   ],
   "source": [
    "##tests\n",
    "\n",
    "stream_model = NonPerturbedStreamModel(\n",
    "    prog_orbit, prog_sigv, mw_pot, aaisochrone, t_disrupt,\n",
    "    leading=True, ro=R0, vsun=vsun\n",
    ")\n"
   ]
  },
  {
   "cell_type": "code",
   "execution_count": 7,
   "id": "3308a1af",
   "metadata": {},
   "outputs": [],
   "source": [
    "r_avg = stream_model.compute_r_avg()\n",
    "omega_par = stream_model.compute_Omega_parallel()\n",
    "td = stream_model.get_disruption_time()"
   ]
  },
  {
   "cell_type": "code",
   "execution_count": 8,
   "id": "1026c4df",
   "metadata": {},
   "outputs": [
    {
     "name": "stdout",
     "output_type": "stream",
     "text": [
      "15.879295627829713 1.0491522760817706 4.5\n"
     ]
    }
   ],
   "source": [
    "print(r_avg, omega_par, td)"
   ]
  },
  {
   "cell_type": "markdown",
   "id": "414d465e",
   "metadata": {},
   "source": [
    "## Fly-by velocity sampling"
   ]
  },
  {
   "cell_type": "code",
   "execution_count": null,
   "id": "56b2bd30",
   "metadata": {},
   "outputs": [],
   "source": [
    "def flyby_velocity(sigma_h):\n",
    "    return "
   ]
  },
  {
   "cell_type": "markdown",
   "id": "3ae05dda",
   "metadata": {},
   "source": [
    "## Impact parameter sampling"
   ]
  },
  {
   "cell_type": "markdown",
   "id": "81228367",
   "metadata": {},
   "source": [
    "## Intrinsic properties sampling"
   ]
  },
  {
   "cell_type": "markdown",
   "id": "b1a3ec2f",
   "metadata": {},
   "source": []
  }
 ],
 "metadata": {
  "kernelspec": {
   "display_name": "streams",
   "language": "python",
   "name": "streams"
  },
  "language_info": {
   "codemirror_mode": {
    "name": "ipython",
    "version": 3
   },
   "file_extension": ".py",
   "mimetype": "text/x-python",
   "name": "python",
   "nbconvert_exporter": "python",
   "pygments_lexer": "ipython3",
   "version": "3.13.2"
  }
 },
 "nbformat": 4,
 "nbformat_minor": 5
}
