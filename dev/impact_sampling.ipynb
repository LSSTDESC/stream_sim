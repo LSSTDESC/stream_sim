{
 "cells": [
  {
   "cell_type": "markdown",
   "id": "aaf70669",
   "metadata": {},
   "source": [
    "# Notebook for the development of functions"
   ]
  },
  {
   "cell_type": "code",
   "execution_count": 2,
   "id": "0041fa90",
   "metadata": {},
   "outputs": [],
   "source": [
    "%matplotlib inline\n",
    "import sys\n",
    "import os\n",
    "import astropy.units as u\n",
    "import numpy as np\n",
    "import matplotlib.pyplot as plt\n",
    "\n",
    "sys.path.append(os.path.abspath('../'))"
   ]
  },
  {
   "cell_type": "markdown",
   "id": "10458afb",
   "metadata": {},
   "source": [
    "# Dark matter subhalo impact parameter sampling"
   ]
  },
  {
   "cell_type": "markdown",
   "id": "94e228d2",
   "metadata": {},
   "source": [
    "## Subhalo density\n",
    "\n",
    "From model, compute estimation of the subhalo density to compute the impact rate"
   ]
  },
  {
   "cell_type": "code",
   "execution_count": 3,
   "id": "4594ce90",
   "metadata": {},
   "outputs": [],
   "source": [
    "import numpy as np\n",
    "from scipy.integrate import quad\n",
    "import astropy.units as u\n",
    "from astropy.units import Quantity\n",
    "\n",
    "\n",
    "class DMS_Distribution:\n",
    "    \"\"\"\n",
    "    A class to model the distribution of dark matter subhalos (DMS)\n",
    "    in a galactic halo. Includes:\n",
    "     - Number of subhalos within a mass range and galactic radius;\n",
    "     - Subhalo intrinsic spatial profile;\n",
    "     - Mass and radius configuration.\n",
    "    \"\"\"\n",
    "\n",
    "    def __init__(self,\n",
    "                 profile='einasto',\n",
    "                 profile_params=None,\n",
    "                 r_max=300.0):\n",
    "        self.profile = profile\n",
    "        self.profile_params = profile_params or {'alpha': 0.678, 'r_minus2': 199}\n",
    "        self.r_max = r_max\n",
    "\n",
    "    def _to_quantity(self, val, unit):\n",
    "        \"\"\"\n",
    "        Convert float or int to Quantity with assumed unit,\n",
    "        or return the Quantity with correct unit.\n",
    "        \"\"\"\n",
    "        if isinstance(val, Quantity):\n",
    "            return val.to(unit)\n",
    "        else:\n",
    "            return val * unit\n",
    "\n",
    "    def mass_function(self, M, a0=3.26e-5, m0=2.52e7, n=-1.9):\n",
    "        \"\"\"\n",
    "        Subhalo mass function dN/dM (cf: The Aquarius Project: the subhalos of galactic halosV. Springel1, J. Wang).\n",
    "        \"\"\"\n",
    "        return a0 * (M / m0)**n\n",
    "\n",
    "    def integrate_mass_function(self, M_min, M_max):\n",
    "        \"\"\"\n",
    "        Integrate the subhalo mass function over a given mass range.\n",
    "        \"\"\"\n",
    "        return quad(lambda M: self.mass_function(M), M_min, M_max)[0]\n",
    "\n",
    "    def spatial_profile(self, r):\n",
    "        \"\"\"\n",
    "        Spatial number density profile of subhalos.\n",
    "        Currently supports only 'einasto'.\n",
    "        \"\"\"\n",
    "        if self.profile == 'einasto':\n",
    "            alpha = self.profile_params['alpha']\n",
    "            r_minus2 = self.profile_params['r_minus2']\n",
    "            x = r / r_minus2\n",
    "            return np.exp(-2 / alpha * (x**alpha - 1))\n",
    "        else:\n",
    "            raise NotImplementedError(f\"Profile {self.profile} not implemented. Profiles: ['einasto']\")\n",
    "\n",
    "    def integrate_spatial_profile(self, r_min=0.01, r_max=500):\n",
    "        \"\"\"\n",
    "        Fraction of subhalos within [r_min, r_max] based on spatial profile.\n",
    "        \"\"\"\n",
    "        r_max = r_max or self.r_max\n",
    "\n",
    "        integrand = lambda r: 4 * np.pi * r**2 * self.spatial_profile(r)\n",
    "\n",
    "        total = quad(integrand, 0.01, self.r_max)[0]\n",
    "        partial = quad(integrand, r_min, r_max)[0]\n",
    "\n",
    "        return partial / total\n",
    "\n",
    "    def number_involume_inmassrange(self, R, M_min=1e5, M_max=1e9):\n",
    "        \"\"\"\n",
    "        Total number of subhalos within radius R.\n",
    "        \"\"\"\n",
    "        R = self._to_quantity(R, u.kpc).value\n",
    "        M_min = self._to_quantity(M_min, u.Msun).value\n",
    "        M_max = self._to_quantity(M_max, u.Msun).value\n",
    "\n",
    "        N_mass = self.integrate_mass_function(M_min, M_max)\n",
    "        N_radius = self.integrate_spatial_profile(r_max=R)\n",
    "        return N_mass * N_radius\n",
    "\n",
    "    def density_involume_inmassrange(self, R, M_min=1e5, M_max=1e9):\n",
    "        \"\"\"\n",
    "        density (/kpc3) of subhalos within radius R.\n",
    "        \"\"\"\n",
    "        R = self._to_quantity(R, u.kpc)\n",
    "        V = (4/3) * np.pi * R**3\n",
    "\n",
    "        N = self.number_involume_inmassrange(R, M_min, M_max)\n",
    "        return (N / V).to(1 / u.kpc**3)\n",
    "\n",
    "    def bmax_inmassrange(self, M_min, M_max, profile='NFW', alpha=5.0):\n",
    "        \"\"\"\n",
    "        Typical bmax in the considered mass range. Depends of the subhalo profile and an adjustable parameter\n",
    "        \"\"\"\n",
    "        M_min = self._to_quantity(M_min, u.Msun).value\n",
    "        M_max = self._to_quantity(M_max, u.Msun).value\n",
    "        M_avg = 10**np.mean([np.log10(M_min), np.log10(M_max)])\n",
    "\n",
    "        if profile == 'NFW':\n",
    "            c = 15 * (M_avg / 1e8)**-0.1 #concentration profile\n",
    "            r_vir = 1.0 * (M_avg / 1e8)**(1/3)  # virial radius\n",
    "            rs = r_vir / c\n",
    "        elif profile == 'Plummer':\n",
    "            rs = (M_avg / 1e8)**0.5 * 1.0\n",
    "        else:\n",
    "            raise ValueError(\"Unrecognized profile. choose NFW or Plummer\")\n",
    "\n",
    "        return (alpha * rs) * u.kpc\n",
    "\n"
   ]
  },
  {
   "cell_type": "code",
   "execution_count": 4,
   "id": "19c688c3",
   "metadata": {},
   "outputs": [
    {
     "data": {
      "image/png": "[encoded data removed]",
      "text/plain": [
       "<Figure size 640x480 with 1 Axes>"
      ]
     },
     "metadata": {},
     "output_type": "display_data"
    }
   ],
   "source": [
    "###Tests on mass/spatial distribution functions\n",
    "\n",
    "# alpha, r_minus2 = 0.678, 199\n",
    "# x = np.linspace(0.01,25,1000)/r_minus2\n",
    "# plt.figure()\n",
    "# plt.loglog(x,np.exp(-2 / alpha * (x**alpha - 1)))\n",
    "# plt.show()\n",
    "\n",
    "\n",
    "\n",
    "def mass_function(m, a0=3.26e-5, m0=2.52e7, n=-1.9):\n",
    "    \"\"\"\n",
    "    Subhalo mass function dN/dM (cf: The Aquarius Project: the subhalos of galactic halosV. Springel1, J. Wang).\n",
    "    \"\"\"\n",
    "    return a0 * (m / m0)**n\n",
    "\n",
    "mass_bins = [1e5, 1e6, 1e7, 1e8, 1e9]\n",
    "mass_df = []\n",
    "for i in range(len(mass_bins)-1):\n",
    "    M_min, M_max = mass_bins[i], mass_bins[i+1]\n",
    "    integrated_massprofile = quad(lambda m: mass_function(m), M_min, M_max)[0]\n",
    "    mass_df.append(integrated_massprofile)\n",
    "\n",
    "plt.figure()\n",
    "plt.plot(mass_df)\n",
    "plt.show()\n",
    "\n"
   ]
  },
  {
   "cell_type": "markdown",
   "id": "35bcbd36",
   "metadata": {},
   "source": [
    "## impact rate\n",
    "\n",
    "from physical parameters, compute the average number of encounter with subhalos the stream had during its past lifetime."
   ]
  },
  {
   "cell_type": "code",
   "execution_count": 5,
   "id": "ae3d3b5d",
   "metadata": {},
   "outputs": [],
   "source": [
    "def expected_N_encounters(r_avg, sigma_h, t_d, delta_omega, b_max, n_h):\n",
    "    '''\n",
    "    From unperturbed stream data and DMS properties, compute the expected number of encounters between sts and DMS\n",
    "    Parameters:\n",
    "     - r_avg: average galactocentric radius of the stream (kpc)\n",
    "     - sigma_h: velocity dispersion (km/s)\n",
    "     - t_d: stream age (Gyr)\n",
    "     - delta_omega: mean-paralel-frequency parameter of the smooth stream (rad/Gyr)\n",
    "     - b_max: max impact parameter (kpc)\n",
    "     - n_h: sub_halo density (kpc^-3)\n",
    "\n",
    "    '''\n",
    "    #convert to correct quantity\n",
    "    def _to_quantity(val, unit):\n",
    "        if isinstance(val, Quantity):\n",
    "            return val.to(unit)\n",
    "        else:\n",
    "            return val * unit\n",
    "\n",
    "    r_avg = _to_quantity(r_avg, u.kpc)\n",
    "    sigma_h = _to_quantity(sigma_h, u.km/u.s).to(u.kpc/u.Gyr)\n",
    "    t_d = _to_quantity(t_d, u.Gyr)\n",
    "    delta_omega =_to_quantity(delta_omega, u.rad/u.Gyr)\n",
    "    b_max = _to_quantity(b_max, u.kpc)\n",
    "    n_h = _to_quantity(n_h, 1/u.kpc**(3))\n",
    "    \n",
    "    N_enc = (np.sqrt(np.pi) / 2) * r_avg * sigma_h * t_d**2 \\\n",
    "            * delta_omega * b_max * n_h\n",
    "    \n",
    "    return N_enc"
   ]
  },
  {
   "cell_type": "markdown",
   "id": "011959d5",
   "metadata": {},
   "source": [
    "## Unperturbed stream sampling\n"
   ]
  },
  {
   "cell_type": "code",
   "execution_count": 6,
   "id": "c37b6ef7",
   "metadata": {},
   "outputs": [],
   "source": [
    "import numpy as np\n",
    "import galpy.potential as gp\n",
    "import galpy.actionAngle as ga\n",
    "from galpy.orbit import Orbit\n",
    "from galpy.df import streamdf\n",
    "import stream_galsim.stream_utils as sutils\n",
    "\n",
    "class NonPerturbedStreamModel:\n",
    "    '''\n",
    "    Generate a unperturbed stream model and retrieve data to generate impact parameters distribution\n",
    "    '''\n",
    "    def __init__(self, sigv, progenitor, pot, aA, tdisrupt, leading=True, ro=8.122, vsun=[-12.9, 245.6, 7.78]):\n",
    "        self.t_disrupt = t_disrupt.to_value('Gyr')\n",
    "        self.orbit = progenitor\n",
    "        self.pot = pot\n",
    "        # Generate stream\n",
    "        self.stream = streamdf(sigv = sigv,\n",
    "            progenitor=progenitor,\n",
    "            pot=pot,\n",
    "            aA=aA,\n",
    "            tdisrupt=tdisrupt,\n",
    "            leading=leading,\n",
    "            ro = ro,\n",
    "            vsun=vsun,\n",
    "            nTrackChunks=26,\n",
    "            )\n",
    "    \n",
    "    def stream_length(self):\n",
    "        return self.stream.length(threshold=0.1)\n",
    "    \n",
    "    def streamdf(self):\n",
    "        return self.stream\n",
    "\n",
    "    def compute_r_avg_max(self, npts=1000):\n",
    "        #average and maximum radii from the galactic center of the orbit \n",
    "        ts = np.linspace(0., -self.t_disrupt, npts)\n",
    "        self.orbit.integrate(ts, self.pot)\n",
    "        r = np.sqrt(self.orbit.x(ts)**2 + self.orbit.y(ts)**2 + self.orbit.z(ts)**2)\n",
    "        return np.mean(r), np.max(r)\n",
    "\n",
    "    def compute_Omega_parallel(self, npts=1000):\n",
    "        # Sample angles and frequencies\n",
    "        aA_data = self.stream.sample(n=npts, returnaAdt=True)  # list of (actions, angles, freqs)\n",
    "        freqs = aA_data[0].T\n",
    "        angles = aA_data[1].T\n",
    "\n",
    "        # Find dominant direction in angle-space\n",
    "        angles_centered = angles - angles.mean(axis=0)\n",
    "        _, _, Vt = np.linalg.svd(angles_centered)\n",
    "        diff_dir = Vt[0]  # principal component\n",
    "\n",
    "        # Project average frequency onto that direction\n",
    "        Omega_mean = freqs.mean(axis=0)\n",
    "        Omega_parallel = np.dot(Omega_mean, diff_dir)\n",
    "        return abs(Omega_parallel)\n",
    "\n",
    "    def get_disruption_time(self):\n",
    "        return self.t_disrupt\n"
   ]
  },
  {
   "cell_type": "code",
   "execution_count": 7,
   "id": "d367c212",
   "metadata": {},
   "outputs": [
    {
     "name": "stdout",
     "output_type": "stream",
     "text": [
      "0.36448724205723426 km / s\n"
     ]
    }
   ],
   "source": [
    "import astropy.coordinates as ac\n",
    "with ac.galactocentric_frame_defaults.set(\"v4.0\"):\n",
    "    galcen_frame = ac.Galactocentric()\n",
    "###test \n",
    "###Progenitor\n",
    "#progenitor coord \n",
    "prog_orbit = Orbit([229.0, -0.124, 22.9, -2.296, -2.257, -58.7], radec=True)\n",
    "\n",
    "prog_mass = 2*10.**4.*u.Msun\n",
    "prog_a = 4.*u.pc #scale radius of the plummer sphere\n",
    "rc = 23*u.pc #progenitor radius\n",
    "prog_pot = gp.PlummerPotential(prog_mass, prog_a)#Define progenitor with a plummer potential\n",
    "prog_sigv = sutils.Plummer_sigv(prog_mass, prog_a, rc)/2.15 #velocity dispersion in original cluster.\n",
    "#It's assumed that the velocity distribution is isotropic\n",
    "print(prog_sigv)\n",
    "t_disrupt = 4.5*u.Gyr #time of disruption of cluster, typically 4.5Gyr\n",
    "# tdisrupt= guc.time_in_Gyr(V0,R0)\n",
    "\n",
    "###Accreting host\n",
    "### Usually Milky way potential\n",
    "V0, R0= 245.6, 8.122 #scale parameters\n",
    "vsun=[-12.9,245.6,7.78] #for streamdf, vxyz\n",
    "mw_pot = gp.MWPotential2014\n",
    "#mw_pot = gp.LogarithmicHaloPotential(normalize=1.,q=0.9) #is also often used\n",
    "\n",
    "aaisochrone = ga.actionAngleIsochroneApprox(pot=mw_pot,b=1.5)"
   ]
  },
  {
   "cell_type": "code",
   "execution_count": 8,
   "id": "250d46cc",
   "metadata": {},
   "outputs": [
    {
     "name": "stdout",
     "output_type": "stream",
     "text": [
      "galpyWarning: Warning: progenitor's solarmotion does not agree with streamdf's vsun (after accounting for vo); this may have unexpected consequences when projecting into observables\n",
      "galpyWarning: In versions >1.3, the output unit of streamdf.misalignment has been changed to radian (from degree before)\n"
     ]
    }
   ],
   "source": [
    "###tests\n",
    "stream_model = NonPerturbedStreamModel(sigv = prog_sigv,\n",
    "            progenitor=prog_orbit,\n",
    "            pot=mw_pot,\n",
    "            aA=aaisochrone,\n",
    "            leading=True,\n",
    "            ro = R0, #Distance scale for translation into internal units\n",
    "            vsun=vsun,\n",
    "            tdisrupt=t_disrupt)\n",
    "# print(self.t_disrupt,self.pot,self.orbit,self.sigv,self.aA,self.leading,self.ro,self.vsun)"
   ]
  },
  {
   "cell_type": "code",
   "execution_count": 9,
   "id": "c06df07f",
   "metadata": {},
   "outputs": [
    {
     "data": {
      "text/plain": [
       "1.6935866245803382"
      ]
     },
     "execution_count": 9,
     "metadata": {},
     "output_type": "execute_result"
    }
   ],
   "source": [
    "# stream_model.streamdf().plotTrack(d1='x',d2='y',interp=True,color='k',spread=2,overplot=False,lw=2.,scaleToPhysical=True)\n",
    "stream_model.stream_length()"
   ]
  },
  {
   "cell_type": "code",
   "execution_count": 9,
   "id": "4828cd79",
   "metadata": {},
   "outputs": [
    {
     "name": "stdout",
     "output_type": "stream",
     "text": [
      "[0.73097003 0.51914007 0.53388848]\n"
     ]
    },
    {
     "data": {
      "text/plain": [
       "(array([  5.,  17.,  62., 158., 243., 253., 163.,  69.,  28.,   2.]),\n",
       " array([0.        , 0.00061012, 0.00122023, 0.00183035, 0.00244046,\n",
       "        0.00305058, 0.00366069, 0.00427081, 0.00488092, 0.00549104,\n",
       "        0.00610115]),\n",
       " <BarContainer object of 10 artists>)"
      ]
     },
     "execution_count": 9,
     "metadata": {},
     "output_type": "execute_result"
    },
    {
     "data": {
      "image/png": "[encoded data removed]",
      "text/plain": [
       "<Figure size 640x480 with 1 Axes>"
      ]
     },
     "metadata": {},
     "output_type": "display_data"
    }
   ],
   "source": [
    "def compute_Omega_parallel(npts=1000):\n",
    "    # Sample angles and frequencies\n",
    "    aA_data = stream_model.streamdf().sample(n=npts, returnaAdt=True)  # list of (actions, angles, freqs)\n",
    "    freqs = aA_data[0].T\n",
    "    angles = aA_data[1].T\n",
    "\n",
    "    # Find dominant direction in angle-space\n",
    "    angles_centered = angles - angles.mean(axis=0)\n",
    "    _, _, Vt = np.linalg.svd(angles_centered)\n",
    "    diff_dir = Vt[0]  # principal component\n",
    "    # print(diff_dir/np.linalg.norm(diff_dir))\n",
    "\n",
    "    # Project average frequency onto that direction\n",
    "    Omega_mean = freqs - freqs.min(axis=0)\n",
    "    print(freqs.min(axis=0))\n",
    "    Omega_parallel = np.dot(Omega_mean, diff_dir)\n",
    "    return abs(Omega_parallel), Omega_mean\n",
    "\n",
    "Omega_parallel, freqs = compute_Omega_parallel()\n",
    "Omega_parallel, freqs\n",
    "plt.hist(freqs.T[2])\n",
    "# stream_model.unperturbed_streamdf().plotCompareTrackAAModel()"
   ]
  },
  {
   "cell_type": "code",
   "execution_count": 10,
   "id": "763039ff",
   "metadata": {},
   "outputs": [
    {
     "name": "stdout",
     "output_type": "stream",
     "text": [
      "0.12 kpc\n",
      "15.879295627829713 18.769286680719258 1.0491782189223435 4.5\n",
      "0.013922867542613022 1 / kpc3 385.6\n"
     ]
    },
    {
     "data": {
      "text/latex": [
       "$78.481854 \\; \\mathrm{rad}$"
      ],
      "text/plain": [
       "<Quantity 78.48185376 rad>"
      ]
     },
     "execution_count": 10,
     "metadata": {},
     "output_type": "execute_result"
    }
   ],
   "source": [
    "### Tests on Nenc\n",
    "Mmin, Mmax = 1e5, 1e9\n",
    "dms = DMS_Distribution()\n",
    "bmax = dms.bmax_inmassrange(Mmin, Mmax, profile='NFW', alpha=5)\n",
    "print(f\"{bmax:.2f}\")\n",
    "\n",
    "r_avg, r_max = stream_model.compute_r_avg_max()\n",
    "d_omega_par = stream_model.compute_Omega_parallel()\n",
    "td = stream_model.get_disruption_time()\n",
    "print(r_avg, r_max, d_omega_par,td)\n",
    "\n",
    "n_h = dms.density_involume_inmassrange(r_max, Mmin, Mmax)\n",
    "N_h = dms.number_involume_inmassrange(r_max, Mmin, Mmax)\n",
    "V=(4/3)*np.pi*(r_max*u.kpc)**3\n",
    "print(f\"{n_h}\", f\"{N_h:.1f}\")\n",
    "\n",
    "expected_N_encounters(r_avg, 150, td, d_omega_par, bmax, n_h)"
   ]
  },
  {
   "cell_type": "markdown",
   "id": "99ecb8f8",
   "metadata": {},
   "source": [
    "## Impacter properties sampling\n",
    "\n",
    "Now that we have constructed a model of the distribution of DMS within the Milky Way, we can sample the impact properties of these subhalos with the considered stellar stream. First we start from the estimate N_encounter. This class sum up the impact functions.\n",
    "\n",
    "Already having the progenitor and an accreting host, we miss an accurate distribution of DMS in the accreting host. Thus we list the impact properties:\n",
    "- the impact time ti.\n",
    "- the stream parallel angle at which the impact occurs at the time of closest approach.\n",
    "- the fly-by velocity of the dark matter halo.\n",
    "- the impact parameter\n",
    "- the intrinsic properties of the subhalo (mass, density profile and radius)\n"
   ]
  },
  {
   "cell_type": "code",
   "execution_count": 28,
   "id": "47053330",
   "metadata": {},
   "outputs": [],
   "source": [
    "import numpy as np\n",
    "from astropy.units import Quantity\n",
    "import astropy.units as u\n",
    "\n",
    "class ImpactSampler:\n",
    "    '''\n",
    "    Sample impact properties of a DMS distribution with a STS, from:\n",
    "     - N_enc: number of impacts the STS has undergone\n",
    "     - sigma_h: velocity dispersion of the subhalos in km/s\n",
    "     - smooth_stream: unperturbed stream PDF\n",
    "     - mass_range: DMS mass range\n",
    "    \n",
    "    With functions related to:\n",
    "     - impact time: t\n",
    "     - stream parallel angle at which the impact occurs at the time of closest approach: theta\n",
    "     - intrinsic properties of the subhalo (mass, density profile and radius): mi\n",
    "     - impact parameter: b\n",
    "     - fly-by velocity of the dark matter halo: w\n",
    "    \n",
    "    Returns sampled DMS with impact properties {(ti, thetai, mi, bi, wi)}\n",
    "    '''\n",
    "    def __init__(self, N_enc, mass_range, sigma_h, t_disrupt, stream_length):\n",
    "        self.stream_length = self._to_quantity(stream_length, u.rad).value\n",
    "        self.mass_range = self._to_quantity(mass_range, u.Msun).value\n",
    "        self.sigma_h = self._to_quantity(sigma_h,u.km/u.s).value\n",
    "        self.t_disrupt = self._to_quantity(t_disrupt, u.Gyr).value\n",
    "        self.N_enc = np.random.poisson(self._to_quantity(N_enc, u.rad).value)\n",
    "\n",
    "    def _to_quantity(self, val, unit):\n",
    "        \"\"\"\n",
    "        Convert float or int to Quantity with assumed unit,\n",
    "        or return the Quantity with correct unit.\n",
    "        \"\"\"\n",
    "        if isinstance(val, Quantity):\n",
    "            return val.to(unit)\n",
    "        else:\n",
    "            return val * unit\n",
    "\n",
    "    def impact_time(self):\n",
    "        '''\n",
    "        Sample impact times t between [t_disrupt, today]. Constuct a probability law that increases linearly with time (stream length) as d_omega*t.\n",
    "         - N_enc: number of encounters, (int,float)\n",
    "         - t_disrupt: float.\n",
    "        '''\n",
    "        time_function = lambda x: x\n",
    "        times = []\n",
    "        t_vals = np.linspace(0, self.t_disrupt, 1000)\n",
    "        f_vals = time_function(t_vals)\n",
    "        f_max = f_vals.max()\n",
    "\n",
    "        while len(times) < int(self.N_enc):\n",
    "            t = np.random.uniform(0, np.max(t_vals))\n",
    "            u_ = np.random.uniform(0, f_max)\n",
    "            if u_ < time_function(t):\n",
    "                times.append(t)\n",
    "\n",
    "        return np.array(times)\n",
    "\n",
    "    def impact_angle(self, impact_times):\n",
    "        '''\n",
    "        Sample impact angles theta at corresponding ti.\n",
    "         - smooth_stream: stream model from galpy.\n",
    "         - impact_times: float or list.\n",
    "        '''\n",
    "        ti_length = self.stream_length * np.array(impact_times) / self.t_disrupt\n",
    "        impact_angles = np.random.uniform(low=0.05, high=ti_length)\n",
    "        return impact_angles\n",
    "    \n",
    "    def subhalo_masses(self, distribution_profile='Einasto', a0=1.56e-5, m0=2.52e7, n=-1.9):\n",
    "        '''\n",
    "        Sample halo masses m in mass range.\n",
    "         - mass_range: tuple (Mmin, Max)\n",
    "         - distribution_profile: string (profile)\n",
    "         - a0,m0,n = floats (distribution parameters)\n",
    "        '''\n",
    "        if distribution_profile == 'Einasto':\n",
    "            mass_function = lambda M: a0 * (M / m0)**n\n",
    "        else:\n",
    "            raise NotImplementedError(f\"Profile {distribution_profile} not implemented.\")\n",
    "\n",
    "        M_min, M_max = self.mass_range\n",
    "        masses = []\n",
    "        M_vals = np.logspace(np.log10(M_min), np.log10(M_max), 1000)\n",
    "        f_vals = mass_function(M_vals)\n",
    "        f_max = f_vals.max()\n",
    "\n",
    "        while len(masses) < self.N_enc:\n",
    "            M = np.random.uniform(M_min, M_max)\n",
    "            u_ = np.random.uniform(0, f_max)\n",
    "            if u_ < mass_function(M):\n",
    "                masses.append(M)\n",
    "\n",
    "        return np.array(masses)\n",
    "\n",
    "    def impact_parameter(self, masses, alpha = 5):\n",
    "        '''\n",
    "        Sample impact parameter b from mass distribution. Use the direct relation between the scale radius rs and Mhalo,\n",
    "        and the relation between rs and b.\n",
    "        Parameters:\n",
    "         - mass: of the considered subhalo, float or list, in Msun\n",
    "         - alpha: factor of the b range to consider b ∈ [-Xrs,Xrs]\n",
    "        '''\n",
    "        masses = self._to_quantity(masses, u.Msun)\n",
    "        rs = 1.05 * u.kpc * (masses / (1e8 * u.Msun))**0.5\n",
    "        return alpha * rs\n",
    "\n",
    "    def flyby_velocity(self):\n",
    "        '''\n",
    "        From velocity dispersion in the accreting host,\n",
    "        sample velocity components of the subhalo in the stream fream, because we don't want positive radial velocity.\n",
    "        return {(w_r, w_phi, w_z)}\n",
    "        ''' \n",
    "        w_r,w_phi,w_z = [],[],[]\n",
    "        i=0\n",
    "        while i <int(self.N_enc):\n",
    "            i+=1\n",
    "            w_r.append(np.random.rayleigh(scale=self.sigma_h))\n",
    "            w_phi.append(np.random.normal(scale=self.sigma_h))\n",
    "            w_z.append(np.random.normal(scale=self.sigma_h))\n",
    "        return np.array([w_r, w_phi, w_z])\n",
    "\n",
    "    def impact_list(self):\n",
    "        t = self.impact_time()\n",
    "        theta = self.impact_angle(t)\n",
    "        m = self.subhalo_masses()\n",
    "        b = self.impact_parameter(m)\n",
    "        w = self.flyby_velocity()\n",
    "\n",
    "        return np.array([t,theta,m,b, w[0], w[1], w[2]]).T\n"
   ]
  },
  {
   "cell_type": "code",
   "execution_count": 30,
   "id": "e8dc3c8f",
   "metadata": {},
   "outputs": [
    {
     "name": "stdout",
     "output_type": "stream",
     "text": [
      "81\n"
     ]
    }
   ],
   "source": [
    "t_disrupt = 4.5*u.Gyr \n",
    "sigma_h = 150*u.km/u.s\n",
    "N_enc = expected_N_encounters(r_avg, 150, td, d_omega_par, bmax, n_h)\n",
    "mass_range = (1e5*u.Msun, 1e9*u.Msun)\n",
    "stream_length = stream_model.stream_length()\n",
    "\n",
    "ImpactSample = ImpactSampler(N_enc, mass_range, sigma_h, t_disrupt, stream_length)\n",
    "ImpactSample.impact_list()\n",
    "print(len(ImpactSample.impact_list()))"
   ]
  },
  {
   "cell_type": "code",
   "execution_count": null,
   "id": "7a834266",
   "metadata": {},
   "outputs": [],
   "source": [
    "import numpy as np\n",
    "import matplotlib.pyplot as plt\n",
    "\n",
    "def mass_function(M, a0=1.56e-5, m0=2.52e7, n=-1.9):\n",
    "    return a0 * (M / m0)**n\n",
    "\n",
    "def sample_mass(N_samples, M_min=1e6, M_max=1e10):\n",
    "    samples = []\n",
    "    M_vals = np.logspace(np.log10(M_min), np.log10(M_max), 1000)\n",
    "    f_vals = mass_function(M_vals)\n",
    "    f_max = f_vals.max()\n",
    "\n",
    "    while len(samples) < N_samples:\n",
    "        M = np.random.uniform(M_min, M_max)\n",
    "        u = np.random.uniform(0, f_max)\n",
    "        if u < mass_function(M):\n",
    "            samples.append(M)\n",
    "\n",
    "    return np.array(samples)\n",
    "\n",
    "\n",
    "\n"
   ]
  },
  {
   "cell_type": "code",
   "execution_count": null,
   "id": "a90a6742",
   "metadata": {},
   "outputs": [],
   "source": [
    "samples = sample_mass(100, M_min=1e5, M_max=1e9)\n",
    "logbins = np.logspace(np.log10(1e5),np.log10(1e9),5)\n",
    "plt.hist(samples, bins=logbins,  log=True)\n",
    "plt.xscale('log')\n",
    "plt.xlabel(\"Masse\")\n",
    "plt.ylabel(\"Nombre\")\n",
    "plt.show()"
   ]
  }
 ],
 "metadata": {
  "kernelspec": {
   "display_name": "streams",
   "language": "python",
   "name": "streams"
  },
  "language_info": {
   "codemirror_mode": {
    "name": "ipython",
    "version": 3
   },
   "file_extension": ".py",
   "mimetype": "text/x-python",
   "name": "python",
   "nbconvert_exporter": "python",
   "pygments_lexer": "ipython3",
   "version": "3.13.2"
  }
 },
 "nbformat": 4,
 "nbformat_minor": 5
}
